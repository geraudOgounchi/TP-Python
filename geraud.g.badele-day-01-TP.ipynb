{
  "metadata": {
    "kernelspec": {
      "name": "python",
      "display_name": "Python (Pyodide)",
      "language": "python"
    },
    "language_info": {
      "codemirror_mode": {
        "name": "python",
        "version": 3
      },
      "file_extension": ".py",
      "mimetype": "text/x-python",
      "name": "python",
      "nbconvert_exporter": "python",
      "pygments_lexer": "ipython3",
      "version": "3.8"
    },
    "colab": {
      "provenance": []
    }
  },
  "nbformat_minor": 5,
  "nbformat": 4,
  "cells": [
    {
      "id": "426486dd",
      "cell_type": "markdown",
      "source": "\n\n# Practical_1: Variables and Assignments",
      "metadata": {
        "id": "426486dd"
      }
    },
    {
      "id": "db9b5d3c",
      "cell_type": "code",
      "source": "\n#Exercise 1:\n\"\"\"\nDeclare a variable x and assign it the value \n\"\"\"\nx = 10\nx",
      "metadata": {
        "trusted": true
      },
      "outputs": [
        {
          "execution_count": 55,
          "output_type": "execute_result",
          "data": {
            "text/plain": "10"
          },
          "metadata": {}
        }
      ],
      "execution_count": 55
    },
    {
      "id": "68a4b9dc",
      "cell_type": "code",
      "source": "#Exercise 2:\n\"\"\"\nAssign the value True to a variable called is_valid.\n\"\"\"\nis_valid = True \nis_valid ",
      "metadata": {},
      "outputs": [
        {
          "data": {
            "text/plain": [
              "True"
            ]
          },
          "execution_count": 3,
          "metadata": {},
          "output_type": "execute_result"
        }
      ],
      "execution_count": 3
    },
    {
      "id": "9aaaae29",
      "cell_type": "code",
      "source": "#Exercise 3:\n\"\"\"\nCreate a string variable name with the value \"Python Programming\"\n\"\"\"\nname = \"Python Programming\"\nname",
      "metadata": {
        "trusted": true
      },
      "outputs": [
        {
          "execution_count": 25,
          "output_type": "execute_result",
          "data": {
            "text/plain": "'Python Programming'"
          },
          "metadata": {}
        }
      ],
      "execution_count": 25
    },
    {
      "id": "956820be",
      "cell_type": "code",
      "source": "#Exercise 4:\n\"\"\"\nAssign the result of Exercise 4:\n\nAssign the result of 5 + 3 to a variable sum_result. to a variable sum_result.\n\"\"\"\nsum_result = 5 + 3\nsum_result",
      "metadata": {},
      "outputs": [
        {
          "data": {
            "text/plain": [
              "8"
            ]
          },
          "execution_count": 8,
          "metadata": {},
          "output_type": "execute_result"
        }
      ],
      "execution_count": 8
    },
    {
      "id": "d3137e7a",
      "cell_type": "code",
      "source": "#Exercise 5:\n\"\"\"\nAssign multiple variables in one line: a = 5, b = 10, c = 15.\n\"\"\"\na, b, c = 5, 10, 15\nprint(a,b,c)",
      "metadata": {
        "trusted": true
      },
      "outputs": [
        {
          "name": "stdout",
          "output_type": "stream",
          "text": "5 10 15\n"
        }
      ],
      "execution_count": 56
    },
    {
      "id": "7392de45",
      "cell_type": "code",
      "source": "#Exercise 6:\n\"\"\"\nAssign the value of one variable x to another variable y.\n\"\"\"\nx = 1\ny = x\nprint(y)",
      "metadata": {
        "trusted": true
      },
      "outputs": [
        {
          "name": "stdout",
          "output_type": "stream",
          "text": "1\n"
        }
      ],
      "execution_count": 2
    },
    {
      "id": "c4890bb1",
      "cell_type": "code",
      "source": "#Exercise 7:\n\"\"\"\nAssign a floating-point number 9.8 to a variable gravity.\n\"\"\"\ngravity = 9.8",
      "metadata": {
        "trusted": true
      },
      "outputs": [],
      "execution_count": 3
    },
    {
      "id": "d64a67a3",
      "cell_type": "code",
      "source": "#Exercise 8:\n\"\"\"\nCreate a variable country and assign it the string value of your favorite country.\n\"\"\"\ncountry = \"Benin\"\nprint(country)",
      "metadata": {
        "trusted": true
      },
      "outputs": [
        {
          "name": "stdout",
          "output_type": "stream",
          "text": "Benin\n"
        }
      ],
      "execution_count": 26
    },
    {
      "id": "72a824ce",
      "cell_type": "code",
      "source": "#Exercise 9:\n\"\"\"\nChange the value of variable age from 25 to 26 in two separate steps.\n\"\"\"\n# First manner\nage = 25\nage += 1\nprint(age)\n\n# Second manner\nage = [25, 26]\nage[0] = 26\nprint(age)",
      "metadata": {
        "trusted": true
      },
      "outputs": [
        {
          "name": "stdout",
          "output_type": "stream",
          "text": "26\n"
        },
        {
          "execution_count": 4,
          "output_type": "execute_result",
          "data": {
            "text/plain": "[26, 26]"
          },
          "metadata": {}
        }
      ],
      "execution_count": 4
    },
    {
      "id": "e4e704cc",
      "cell_type": "code",
      "source": "#Exercise 10:\n\"\"\"\nUse one variable to store the result of subtracting two numbers 20 - 7.\n\"\"\"\nres = 20 - 7\nres",
      "metadata": {},
      "outputs": [
        {
          "data": {
            "text/plain": [
              "13"
            ]
          },
          "execution_count": 16,
          "metadata": {},
          "output_type": "execute_result"
        }
      ],
      "execution_count": 16
    },
    {
      "id": "9b55a065",
      "cell_type": "code",
      "source": "#Exercise 14:\n\"\"\"\nAssign a complex number 3 + 4j to a variable complex_num.\n\"\"\"\ncomplex_num = complex(3, 4)\ncomplex_num",
      "metadata": {},
      "outputs": [
        {
          "data": {
            "text/plain": [
              "(3+4j)"
            ]
          },
          "execution_count": 26,
          "metadata": {},
          "output_type": "execute_result"
        }
      ],
      "execution_count": 26
    },
    {
      "id": "c17e82a6",
      "cell_type": "code",
      "source": "#Exercise 15:\n\"\"\"\nReassign a variable from an integer to a string.\n\"\"\"\na = 5\n\nch = str(a)\nprint(ch)",
      "metadata": {
        "trusted": true
      },
      "outputs": [
        {
          "name": "stdout",
          "output_type": "stream",
          "text": "5\n"
        }
      ],
      "execution_count": 1
    },
    {
      "id": "7ce8be3d-b3d8-418c-acce-e6203b7f5a5f",
      "cell_type": "code",
      "source": "#Exercise 16:\n\"\"\"\nCreate two variables first_name and last_name, and assign them your first and last names.\n\"\"\"\nfirst_name = \"Géraud\"\nlast_name = \"OGOUNCHI\"",
      "metadata": {
        "trusted": true
      },
      "outputs": [
        {
          "execution_count": 9,
          "output_type": "execute_result",
          "data": {
            "text/plain": "'Géraud OGOUNCHI'"
          },
          "metadata": {}
        }
      ],
      "execution_count": 9
    },
    {
      "id": "68bde474-c137-475c-9ca6-eea9831ccedf",
      "cell_type": "code",
      "source": "#Exercise 17:\n\"\"\"\nCreate a variable temperature and assign it the value of 35.5\n\"\"\"\ntemperature = 35.5\nprint(temperature)",
      "metadata": {
        "trusted": true
      },
      "outputs": [
        {
          "name": "stdout",
          "output_type": "stream",
          "text": "35.5\n"
        }
      ],
      "execution_count": 27
    },
    {
      "id": "5c3a1858-66f3-49ba-8900-dbfc0115503a",
      "cell_type": "code",
      "source": "#Exercise 18:\n\"\"\"\nAssign the result of the multiplication of two numbers 8 * 6 to a variable product.\n\"\"\"\nproduct = 8 * 6 \nprint(product)",
      "metadata": {
        "trusted": true
      },
      "outputs": [
        {
          "name": "stdout",
          "output_type": "stream",
          "text": "48\n"
        }
      ],
      "execution_count": 13
    },
    {
      "id": "5ef14d08-04c0-4f01-88a1-ab3156821e30",
      "cell_type": "code",
      "source": "#Exercise 19:\n\"\"\"\nAssign a sentence of your choice to a variable sentence.\n\"\"\"\nsentence = \"I am so glad to be here.\"\nsentence ",
      "metadata": {
        "trusted": true
      },
      "outputs": [
        {
          "execution_count": 14,
          "output_type": "execute_result",
          "data": {
            "text/plain": "'I am so glad to be here.'"
          },
          "metadata": {}
        }
      ],
      "execution_count": 14
    },
    {
      "id": "f4d214b1-dd9f-4a48-a51d-e0d3d5e78e0d",
      "cell_type": "code",
      "source": "#Exercise 20:\n\"\"\"\nUse an assignment to convert a string '50' into an integer variable int_value.\n\"\"\"\nstring = '50'\nint_value = int(string)\nint_value",
      "metadata": {
        "trusted": true
      },
      "outputs": [
        {
          "execution_count": 15,
          "output_type": "execute_result",
          "data": {
            "text/plain": "50"
          },
          "metadata": {}
        }
      ],
      "execution_count": 15
    },
    {
      "id": "71409651-d474-47dd-b978-68048005f8d8",
      "cell_type": "code",
      "source": "#Exercise 21:\n\"\"\"\nAssign the result of dividing 144 by 12 to a variable quotient.\n\"\"\"\nquotient = 144/12\nprint(quotient)\n",
      "metadata": {
        "trusted": true
      },
      "outputs": [
        {
          "name": "stdout",
          "output_type": "stream",
          "text": "12.0\n"
        }
      ],
      "execution_count": 16
    },
    {
      "id": "803f883c-e9b6-4263-90e4-f47b769a9027",
      "cell_type": "code",
      "source": "\n#Exercise 22:\n\"\"\"\nAssign the remainder of 47 divided by 5 to a variable remainder.\n\"\"\"\nremainder = 47%5\nprint(remainder)\n",
      "metadata": {
        "trusted": true
      },
      "outputs": [
        {
          "name": "stdout",
          "output_type": "stream",
          "text": "2\n"
        }
      ],
      "execution_count": 17
    },
    {
      "id": "a7ef16a9-f30b-407e-b128-dac648777320",
      "cell_type": "code",
      "source": "#Exercise 23:\n\"\"\"\nCreate a variable is_student and assign it the value True.\n\"\"\"\nis_student = True\nprint(is_student)\n",
      "metadata": {
        "trusted": true
      },
      "outputs": [],
      "execution_count": null
    },
    {
      "id": "a20e1f85-73fb-4fdc-89df-9cbd60e117ce",
      "cell_type": "code",
      "source": "#Exercise 24:\n\"\"\"\nUse a variable to store the result of a modulo operation: 45 % 4.\n\"\"\"\nremainder = 45 % 4\nremainder \n",
      "metadata": {
        "trusted": true
      },
      "outputs": [
        {
          "execution_count": 18,
          "output_type": "execute_result",
          "data": {
            "text/plain": "1"
          },
          "metadata": {}
        }
      ],
      "execution_count": 18
    },
    {
      "id": "7f46c24e-4392-4344-b7d3-562c59b3edf8",
      "cell_type": "code",
      "source": "#Exercise 25:\n\"\"\"\nCreate a variable pi and assign it the value 3.14159.\n\"\"\"\npi = 3.14159\nprint(pi)\n",
      "metadata": {
        "trusted": true
      },
      "outputs": [
        {
          "name": "stdout",
          "output_type": "stream",
          "text": "3.14159\n"
        }
      ],
      "execution_count": 21
    },
    {
      "id": "9b66d20b-ea8d-428c-96e5-b81028ce0bd1",
      "cell_type": "code",
      "source": "#Exercise 26:\n\"\"\"\nCreate two variables length and width, assign them values, and calculate the area of a rectangle.\n\"\"\"\nlength = 9\nwidth = 5\narea = length * width\narea",
      "metadata": {
        "trusted": true
      },
      "outputs": [
        {
          "execution_count": 22,
          "output_type": "execute_result",
          "data": {
            "text/plain": "45"
          },
          "metadata": {}
        }
      ],
      "execution_count": 22
    },
    {
      "id": "717b2360-2e4d-48ef-8d28-f99295d6aae8",
      "cell_type": "code",
      "source": "#Exercise 27:\n\"\"\"\nAssign a negative number to a variable negative_value.\n\"\"\"\nnegative_value = -10\nprint(negative_value)",
      "metadata": {
        "trusted": true
      },
      "outputs": [
        {
          "name": "stdout",
          "output_type": "stream",
          "text": "-10\n"
        }
      ],
      "execution_count": 20
    },
    {
      "id": "1ec3cf27-4022-4381-b002-c25dda0a991a",
      "cell_type": "code",
      "source": "#Exercise 28:\n\"\"\"\nAssign a string containing a special character (e.g., \"Hello, World!\") to a variable greeting.\n\"\"\"\ngreeting = \"Hello, World!\"\nprint(greeting)\n",
      "metadata": {
        "trusted": true
      },
      "outputs": [
        {
          "name": "stdout",
          "output_type": "stream",
          "text": "Hello, World!\n"
        }
      ],
      "execution_count": 29
    },
    {
      "id": "2c2c4ddc-653e-457a-9895-2734013773c2",
      "cell_type": "code",
      "source": "#Exercise 29:\n\"\"\"\nCreate a variable population and assign it a large integer value (in billions).\n\"\"\"\npopulation = 123456789\nprint(population)\n",
      "metadata": {
        "trusted": true
      },
      "outputs": [
        {
          "name": "stdout",
          "output_type": "stream",
          "text": "123456789\n"
        }
      ],
      "execution_count": 33
    },
    {
      "id": "ca23a891-386e-4192-a4f2-e9a4f5dde1de",
      "cell_type": "code",
      "source": "#Exercise 30:\n\"\"\"\nUse a variable to store the result of raising 2 to the power of 8.\n\"\"\"\nres = 2**8\nprint(res)\n",
      "metadata": {
        "trusted": true
      },
      "outputs": [
        {
          "name": "stdout",
          "output_type": "stream",
          "text": "256\n"
        }
      ],
      "execution_count": 34
    },
    {
      "id": "9085230f-326f-41a9-9a78-33fec719855f",
      "cell_type": "code",
      "source": "#Exercise 31:\n\"\"\"\nAssign a list of your favorite fruits to a variable fruits.\n\"\"\"\nfruits = ['apple', 'banana', 'cherry']\nprint(fruits)",
      "metadata": {
        "trusted": true
      },
      "outputs": [
        {
          "name": "stdout",
          "output_type": "stream",
          "text": "['apple', 'banana', 'cherry']\n"
        }
      ],
      "execution_count": 35
    },
    {
      "id": "b234674e-a4e7-47c4-aed6-70107d86ce39",
      "cell_type": "code",
      "source": "#Exercise 32:\n\"\"\"\nAssign a tuple of three numbers to a variable coordinates.\n\"\"\"\ncoord = (0, 1)\nprint(coord)",
      "metadata": {
        "trusted": true
      },
      "outputs": [
        {
          "name": "stdout",
          "output_type": "stream",
          "text": "(0, 1)\n"
        }
      ],
      "execution_count": 37
    },
    {
      "id": "6d82cb02-d39a-40f8-8cfb-da76405165e8",
      "cell_type": "code",
      "source": "#Exercise 38:\n\"\"\"\nCreate a variable is_weekend and assign it the result of False.\n\"\"\"\nis_weekend =  False \nprint(is_weekend)\n",
      "metadata": {
        "trusted": true
      },
      "outputs": [
        {
          "name": "stdout",
          "output_type": "stream",
          "text": "False\n"
        }
      ],
      "execution_count": 41
    },
    {
      "id": "2579507e-9be7-466f-a3b2-602141e72d1c",
      "cell_type": "code",
      "source": "#Exercise 39:\n\"\"\"\nAssign a multi-line string to a variable description.\n\"\"\"\ndescription = \"\"\"My name is Géraud. I come from Bénin.\nI am so glad to be here with you\"\"\"\nprint(description)\n",
      "metadata": {
        "trusted": true
      },
      "outputs": [
        {
          "name": "stdout",
          "output_type": "stream",
          "text": "My name is Géraud. I come from Bénin.\nI am so glad to be here with you\n"
        }
      ],
      "execution_count": 42
    },
    {
      "id": "3097bd9c-be62-41f4-b857-20466a34e43d",
      "cell_type": "code",
      "source": "#Exercise 40:\n\"\"\"\nUse variables to store the result of the absolute value of -25.\n\"\"\"\nabsolute = abs(-25)\nprint(absolute)\n",
      "metadata": {
        "trusted": true
      },
      "outputs": [
        {
          "name": "stdout",
          "output_type": "stream",
          "text": "25\n"
        }
      ],
      "execution_count": 43
    },
    {
      "id": "6eca7468-c8d1-4461-9066-e418fde4d6ca",
      "cell_type": "code",
      "source": "#Exercise 41:\n\"\"\"\nAssign the result of a floor division 100 // 6 to a variable floor_div_result.\n\"\"\"\nfloor_div_result = 100//6\nprint(floor_div_result)\n",
      "metadata": {
        "trusted": true
      },
      "outputs": [
        {
          "name": "stdout",
          "output_type": "stream",
          "text": "16\n"
        }
      ],
      "execution_count": 44
    },
    {
      "id": "cb0ef134-aea5-4d94-970e-9276aa843f45",
      "cell_type": "code",
      "source": "#Exercise 42:\n\"\"\"\nAssign the result of adding a floating-point number to an integer to a variable mixed_sum.\n\"\"\"\nmixed_sum = 10 + 11.2\nprint(mixed_sum)\n",
      "metadata": {
        "trusted": true
      },
      "outputs": [
        {
          "name": "stdout",
          "output_type": "stream",
          "text": "21.2\n"
        }
      ],
      "execution_count": 45
    },
    {
      "id": "2b39d85c-f3d7-42b4-83c9-9f2307905998",
      "cell_type": "code",
      "source": "\n#Exercise 43:\n\"\"\"\nAssign a boolean value based on the comparison of two variables a = 10 and b = 15.\n\"\"\"\na, b = 10, 15\ncomp_var = a < 15\nprint(comp_var)",
      "metadata": {
        "trusted": true
      },
      "outputs": [
        {
          "name": "stdout",
          "output_type": "stream",
          "text": "True\n"
        }
      ],
      "execution_count": 46
    },
    {
      "id": "c13d9e62-fdf9-4b3b-ba6e-5e3e57b8295c",
      "cell_type": "code",
      "source": "#Exercise 44:\n\"\"\"\nAssign a long sentence to a variable and count its characters using len().\n\"\"\"\nsentence = \" What is your favorite meat ? \" \nlength = len(sentence)\nprint(length)",
      "metadata": {
        "trusted": true
      },
      "outputs": [
        {
          "name": "stdout",
          "output_type": "stream",
          "text": "30\n"
        }
      ],
      "execution_count": 48
    },
    {
      "id": "e6f12869-ff21-4d87-acbb-5b43b09398df",
      "cell_type": "code",
      "source": "\n\n#Exercise 45:\n\"\"\"\nAssign a fractional result 7 / 3 to a variable division_result.\n\"\"\"\ndivision_result = 7/3\nprint(division_result)\n\n",
      "metadata": {
        "trusted": true
      },
      "outputs": [
        {
          "name": "stdout",
          "output_type": "stream",
          "text": "2.3333333333333335\n"
        }
      ],
      "execution_count": 49
    },
    {
      "id": "9baf4a1e-7895-42af-b018-19889db65e46",
      "cell_type": "code",
      "source": "\n#Exercise 46:\n\"\"\"\nCreate a variable speed and assign it the value of 100 kilometers per hour.\n\"\"\"\nspeed = \"100 Km/h\"\nprint(speed)\n",
      "metadata": {
        "trusted": true
      },
      "outputs": [
        {
          "name": "stdout",
          "output_type": "stream",
          "text": "100 Km/h\n"
        }
      ],
      "execution_count": 50
    },
    {
      "id": "3f248016-fc12-46d1-aebe-9921a72e1412",
      "cell_type": "code",
      "source": "\n#Exercise 47:\n\"\"\"\nAssign a multi-variable equation like y = 3x + 5 where x = 4 to a variable y.\n\"\"\"\nx = 4\ny = 3*x + 5\nprint(y)\n\n",
      "metadata": {
        "trusted": true
      },
      "outputs": [
        {
          "name": "stdout",
          "output_type": "stream",
          "text": "17\n"
        }
      ],
      "execution_count": 52
    },
    {
      "id": "af309dce-0d01-4856-8625-17cf270ed211",
      "cell_type": "code",
      "source": "\n#Exercise 48:\n\"\"\"\nUse variables to calculate and store the average of three numbers.\n\"\"\"\na = 10\nb = 20\nc = 30\naverage = (a + b + c) / 3\nprint(average)",
      "metadata": {
        "trusted": true
      },
      "outputs": [
        {
          "name": "stdout",
          "output_type": "stream",
          "text": "20.0\n"
        }
      ],
      "execution_count": 54
    }
  ]
}
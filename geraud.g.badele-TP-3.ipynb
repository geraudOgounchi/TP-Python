{
 "cells": [
  {
   "cell_type": "code",
   "execution_count": 1,
   "id": "11b859e2",
   "metadata": {},
   "outputs": [
    {
     "data": {
      "text/plain": [
       "[1, 2, 3, 4, 5, 6, 7, 8, 9, 10]"
      ]
     },
     "execution_count": 1,
     "metadata": {},
     "output_type": "execute_result"
    }
   ],
   "source": [
    "# --- Exercise 1 ---\n",
    "numbers_list = list(range(1, 11))\n",
    "numbers_list"
   ]
  },
  {
   "cell_type": "code",
   "execution_count": 2,
   "id": "55c5e6dc",
   "metadata": {},
   "outputs": [
    {
     "data": {
      "text/plain": [
       "('apple', 'banana', 'cherry')"
      ]
     },
     "execution_count": 2,
     "metadata": {},
     "output_type": "execute_result"
    }
   ],
   "source": [
    "# --- Exercise 2 ---\n",
    "fruits_tuple = (\"apple\", \"banana\", \"cherry\")\n",
    "fruits_tuple"
   ]
  },
  {
   "cell_type": "code",
   "execution_count": 3,
   "id": "15d3d5ef",
   "metadata": {},
   "outputs": [
    {
     "data": {
      "text/plain": [
       "(10, 20, 30, 40)"
      ]
     },
     "execution_count": 3,
     "metadata": {},
     "output_type": "execute_result"
    }
   ],
   "source": [
    "# --- Exercise 3 ---\n",
    "numbers = [10, 20, 30, 40]\n",
    "numbers_tuple = tuple(numbers)\n",
    "numbers_tuple"
   ]
  },
  {
   "cell_type": "code",
   "execution_count": 4,
   "id": "60e0898f",
   "metadata": {},
   "outputs": [
    {
     "data": {
      "text/plain": [
       "{1, 2, 3, 4, 5}"
      ]
     },
     "execution_count": 4,
     "metadata": {},
     "output_type": "execute_result"
    }
   ],
   "source": [
    "# --- Exercise 4 ---\n",
    "numbers_set = {1, 2, 3, 4, 5}\n",
    "numbers_set"
   ]
  },
  {
   "cell_type": "code",
   "execution_count": 5,
   "id": "241a5e16",
   "metadata": {},
   "outputs": [
    {
     "data": {
      "text/plain": [
       "{'name': 'Alice', 'age': 20, 'grade': 'A'}"
      ]
     },
     "execution_count": 5,
     "metadata": {},
     "output_type": "execute_result"
    }
   ],
   "source": [
    "# --- Exercise 5 ---\n",
    "student = {\"name\": \"Alice\", \"age\": 20, \"grade\": \"A\"}\n",
    "student"
   ]
  },
  {
   "cell_type": "code",
   "execution_count": 6,
   "id": "05678ac2",
   "metadata": {},
   "outputs": [
    {
     "data": {
      "text/plain": [
       "20"
      ]
     },
     "execution_count": 6,
     "metadata": {},
     "output_type": "execute_result"
    }
   ],
   "source": [
    "# --- Exercise 6 ---\n",
    "second_element = [10, 20, 30, 40, 50][1]\n",
    "second_element"
   ]
  },
  {
   "cell_type": "code",
   "execution_count": 8,
   "id": "da5124a0",
   "metadata": {},
   "outputs": [
    {
     "data": {
      "text/plain": [
       "['apple', 'banana', 'mango', 'orange']"
      ]
     },
     "execution_count": 8,
     "metadata": {},
     "output_type": "execute_result"
    }
   ],
   "source": [
    "# --- Exercise 7 ---\n",
    "fruits = [\"apple\", \"banana\", \"cherry\", \"orange\"]\n",
    "fruits[2] = \"mango\"\n",
    "fruits"
   ]
  },
  {
   "cell_type": "code",
   "execution_count": 10,
   "id": "62feb4f9",
   "metadata": {},
   "outputs": [
    {
     "data": {
      "text/plain": [
       "{1, 2, 3, 4, 5, 6}"
      ]
     },
     "execution_count": 10,
     "metadata": {},
     "output_type": "execute_result"
    }
   ],
   "source": [
    "# --- Exercise 8 ---\n",
    "numbers = {1, 2, 3, 4, 5}\n",
    "numbers.add(6)\n",
    "numbers"
   ]
  },
  {
   "cell_type": "code",
   "execution_count": 11,
   "id": "6364f360",
   "metadata": {},
   "outputs": [
    {
     "data": {
      "text/plain": [
       "{'name': 'John', 'city': 'New York'}"
      ]
     },
     "execution_count": 11,
     "metadata": {},
     "output_type": "execute_result"
    }
   ],
   "source": [
    "# --- Exercise 9 ---\n",
    "person = {\"name\": \"John\", \"age\": 25, \"city\": \"New York\"}\n",
    "person.pop(\"age\")\n",
    "person"
   ]
  },
  {
   "cell_type": "code",
   "execution_count": 12,
   "id": "8db2a84f",
   "metadata": {},
   "outputs": [
    {
     "data": {
      "text/plain": [
       "range(0, 10)"
      ]
     },
     "execution_count": 12,
     "metadata": {},
     "output_type": "execute_result"
    }
   ],
   "source": [
    "# --- Exercise 10 ---\n",
    "range_obj = range(10)\n",
    "range_obj"
   ]
  },
  {
   "cell_type": "code",
   "execution_count": 14,
   "id": "9baa8d4d",
   "metadata": {},
   "outputs": [
    {
     "data": {
      "text/plain": [
       "[1, 2, 3, 4, 5, 6, 7, 8, 9, 10]"
      ]
     },
     "execution_count": 14,
     "metadata": {},
     "output_type": "execute_result"
    }
   ],
   "source": [
    "# --- Exercise 11 ---\n",
    "squares = []\n",
    "for x in range(1, 11):\n",
    "    squares.append(x)\n",
    "    \n",
    "squares\n"
   ]
  },
  {
   "cell_type": "code",
   "execution_count": 16,
   "id": "f1d3c7d8",
   "metadata": {},
   "outputs": [
    {
     "data": {
      "text/plain": [
       "(2, 4, 6, 8, 10)"
      ]
     },
     "execution_count": 16,
     "metadata": {},
     "output_type": "execute_result"
    }
   ],
   "source": [
    "# --- Exercise 12 ---\n",
    "even_tuple = tuple(x for x in range(2, 11, 2))\n",
    "even_tuple"
   ]
  },
  {
   "cell_type": "code",
   "execution_count": 17,
   "id": "e61d0898",
   "metadata": {},
   "outputs": [
    {
     "name": "stdout",
     "output_type": "stream",
     "text": [
      "apple\n",
      "banana\n",
      "cherry\n"
     ]
    }
   ],
   "source": [
    "# --- Exercise 13 ---\n",
    "fruits = [\"apple\", \"banana\", \"cherry\"]\n",
    "for fruit in fruits:\n",
    "    print(fruit)"
   ]
  },
  {
   "cell_type": "code",
   "execution_count": 19,
   "id": "8a834367",
   "metadata": {},
   "outputs": [
    {
     "data": {
      "text/plain": [
       "True"
      ]
     },
     "execution_count": 19,
     "metadata": {},
     "output_type": "execute_result"
    }
   ],
   "source": [
    "# --- Exercise 14 ---\n",
    "exists = 3 in {1, 2, 3, 4, 5}\n",
    "exists"
   ]
  },
  {
   "cell_type": "code",
   "execution_count": 20,
   "id": "a88a3392",
   "metadata": {},
   "outputs": [
    {
     "data": {
      "text/plain": [
       "3"
      ]
     },
     "execution_count": 20,
     "metadata": {},
     "output_type": "execute_result"
    }
   ],
   "source": [
    "# --- Exercise 15 ---\n",
    "length = len((10, 20, 30))\n",
    "length"
   ]
  },
  {
   "cell_type": "code",
   "execution_count": 22,
   "id": "deaee3ce",
   "metadata": {},
   "outputs": [
    {
     "data": {
      "text/plain": [
       "[80, 85, 90, 95, 100]"
      ]
     },
     "execution_count": 22,
     "metadata": {},
     "output_type": "execute_result"
    }
   ],
   "source": [
    "# --- Exercise 16 ---\n",
    "scores = [80, 85, 90, 95]\n",
    "scores.append(100)\n",
    "\n",
    "scores"
   ]
  },
  {
   "cell_type": "code",
   "execution_count": 24,
   "id": "113e2d04",
   "metadata": {},
   "outputs": [
    {
     "data": {
      "text/plain": [
       "6"
      ]
     },
     "execution_count": 24,
     "metadata": {},
     "output_type": "execute_result"
    }
   ],
   "source": [
    "# --- Exercise 17 ---\n",
    "def sum_list(lst):\n",
    "    return sum(lst)\n",
    "liste = [1, 2, 3]\n",
    "sum_list(liste)\n"
   ]
  },
  {
   "cell_type": "code",
   "execution_count": 25,
   "id": "b931e237",
   "metadata": {},
   "outputs": [
    {
     "data": {
      "text/plain": [
       "{1, 2, 3, 4, 5}"
      ]
     },
     "execution_count": 25,
     "metadata": {},
     "output_type": "execute_result"
    }
   ],
   "source": [
    "# --- Exercise 18 ---\n",
    "unique_numbers = set([1, 2, 2, 3, 4, 4, 5])\n",
    "unique_numbers"
   ]
  },
  {
   "cell_type": "code",
   "execution_count": 26,
   "id": "e395b281",
   "metadata": {},
   "outputs": [
    {
     "data": {
      "text/plain": [
       "['h', 'e', 'l', 'l', 'o']"
      ]
     },
     "execution_count": 26,
     "metadata": {},
     "output_type": "execute_result"
    }
   ],
   "source": [
    "# --- Exercise 19 ---\n",
    "chars = list(\"hello\")\n",
    "chars"
   ]
  },
  {
   "cell_type": "code",
   "execution_count": 28,
   "id": "cbbf89e6",
   "metadata": {},
   "outputs": [
    {
     "data": {
      "text/plain": [
       "(2, 1)"
      ]
     },
     "execution_count": 28,
     "metadata": {},
     "output_type": "execute_result"
    }
   ],
   "source": [
    "# --- Exercise 20 ---\n",
    "def reverse_tuple(t):\n",
    "    return t[::-1]\n",
    "tuple_list = (1,2)\n",
    "reverse_tuple(tuple_list)"
   ]
  },
  {
   "cell_type": "code",
   "execution_count": 29,
   "id": "1bf8fa87",
   "metadata": {},
   "outputs": [
    {
     "data": {
      "text/plain": [
       "{'a': 1, 'b': 2, 'c': 3, 'd': 4}"
      ]
     },
     "execution_count": 29,
     "metadata": {},
     "output_type": "execute_result"
    }
   ],
   "source": [
    "# --- Exercise 21 ---\n",
    "dict1 = {\"a\": 1, \"b\": 2}\n",
    "dict2 = {\"c\": 3, \"d\": 4}\n",
    "merged_dict = {**dict1, **dict2}\n",
    "merged_dict"
   ]
  },
  {
   "cell_type": "code",
   "execution_count": 31,
   "id": "b7fd10fa",
   "metadata": {},
   "outputs": [
    {
     "data": {
      "text/plain": [
       "{1: 1, 2: 4, 3: 9, 4: 16, 5: 25}"
      ]
     },
     "execution_count": 31,
     "metadata": {},
     "output_type": "execute_result"
    }
   ],
   "source": [
    "# --- Exercise 22 ---\n",
    "squares_dict = {}\n",
    "for x in range(1, 6):\n",
    "    squares_dict[x] = x**2\n",
    "\n",
    "squares_dict"
   ]
  },
  {
   "cell_type": "code",
   "execution_count": 32,
   "id": "5b3e9bdf",
   "metadata": {},
   "outputs": [
    {
     "name": "stdout",
     "output_type": "stream",
     "text": [
      "1 1\n",
      "2 4\n",
      "3 9\n",
      "4 16\n",
      "5 25\n"
     ]
    }
   ],
   "source": [
    "# --- Exercise 23 ---\n",
    "for k, v in squares_dict.items():\n",
    "    print(k, v)\n"
   ]
  },
  {
   "cell_type": "code",
   "execution_count": 39,
   "id": "8e1525a9",
   "metadata": {},
   "outputs": [
    {
     "name": "stdout",
     "output_type": "stream",
     "text": [
      "['a', 'b', 'c', 'd', 'e']\n"
     ]
    }
   ],
   "source": [
    "# --- Exercise 24 ---\n",
    "letters = []  \n",
    "\n",
    "for i in range(ord('a'), ord('f')):  \n",
    "    letters.append(chr(i)) \n",
    "\n",
    "print(letters)\n"
   ]
  },
  {
   "cell_type": "code",
   "execution_count": 35,
   "id": "88cab9b6",
   "metadata": {},
   "outputs": [
    {
     "data": {
      "text/plain": [
       "[(1, 'a'), (2, 'b'), (3, 'c')]"
      ]
     },
     "execution_count": 35,
     "metadata": {},
     "output_type": "execute_result"
    }
   ],
   "source": [
    "# --- Exercise 25 ---\n",
    "zipped = list(zip([1,2,3], [\"a\",\"b\",\"c\"]))\n",
    "zipped"
   ]
  },
  {
   "cell_type": "code",
   "execution_count": 36,
   "id": "5df2a77e",
   "metadata": {},
   "outputs": [
    {
     "data": {
      "text/plain": [
       "4"
      ]
     },
     "execution_count": 36,
     "metadata": {},
     "output_type": "execute_result"
    }
   ],
   "source": [
    "# --- Exercise 26 ---\n",
    "index_50 = [10, 20, 30, 40, 50].index(50)\n",
    "index_50"
   ]
  },
  {
   "cell_type": "code",
   "execution_count": null,
   "id": "ea064d56",
   "metadata": {},
   "outputs": [],
   "source": [
    "# --- Exercise 27 ---\n",
    "names = [\"Alice\", \"Bob\", \"Charlie\", \"David\"]\n",
    "names.sort()\n"
   ]
  },
  {
   "cell_type": "code",
   "execution_count": null,
   "id": "bb5bfbb8",
   "metadata": {},
   "outputs": [],
   "source": [
    "# --- Exercise 28 ---\n",
    "def max_in_list(lst):\n",
    "    return max(lst)\n"
   ]
  },
  {
   "cell_type": "code",
   "execution_count": null,
   "id": "763176ea",
   "metadata": {},
   "outputs": [],
   "source": [
    "# --- Exercise 29 ---\n",
    "fruits = [\"apple\", \"banana\", \"apple\", \"orange\"]\n",
    "apple_count = fruits.count(\"apple\")\n"
   ]
  },
  {
   "cell_type": "code",
   "execution_count": null,
   "id": "36a7ce46",
   "metadata": {},
   "outputs": [],
   "source": [
    "# --- Exercise 30 ---\n",
    "person = {\"name\": \"Alice\", \"age\": 25, \"city\": \"New York\"}\n",
    "city_value = person[\"city\"]\n"
   ]
  },
  {
   "cell_type": "code",
   "execution_count": null,
   "id": "1e4f79f6",
   "metadata": {},
   "outputs": [],
   "source": [
    "# --- Exercise 31 ---\n",
    "def remove_duplicates(lst):\n",
    "    return list(dict.fromkeys(lst))\n"
   ]
  },
  {
   "cell_type": "code",
   "execution_count": null,
   "id": "7e49e6c6",
   "metadata": {},
   "outputs": [],
   "source": [
    "# --- Exercise 32 ---\n",
    "def intersection(lst1, lst2):\n",
    "    return list(set(lst1) & set(lst2))\n"
   ]
  },
  {
   "cell_type": "code",
   "execution_count": null,
   "id": "d2462686",
   "metadata": {},
   "outputs": [],
   "source": [
    "# --- Exercise 33 ---\n",
    "def square_generator():\n",
    "    for i in range(1, 11):\n",
    "        yield i**2\n"
   ]
  },
  {
   "cell_type": "code",
   "execution_count": null,
   "id": "c8c12a5d",
   "metadata": {},
   "outputs": [],
   "source": [
    "# --- Exercise 34 ---\n",
    "def sum_dict_values(d):\n",
    "    return sum(d.values())\n"
   ]
  },
  {
   "cell_type": "code",
   "execution_count": null,
   "id": "5d8931aa",
   "metadata": {},
   "outputs": [],
   "source": [
    "# --- Exercise 35 ---\n",
    "sorted_list = sorted([3, 1, 4, 1, 5, 9])\n"
   ]
  },
  {
   "cell_type": "code",
   "execution_count": null,
   "id": "4b3955df",
   "metadata": {},
   "outputs": [],
   "source": [
    "# --- Exercise 36 ---\n",
    "def longest_string(lst):\n",
    "    return max(lst, key=len)\n"
   ]
  },
  {
   "cell_type": "code",
   "execution_count": null,
   "id": "f1903cd1",
   "metadata": {},
   "outputs": [],
   "source": [
    "# --- Exercise 37 ---\n",
    "all_positive = all(x > 0 for x in [1, 2, 3, 4, 5])\n"
   ]
  },
  {
   "cell_type": "code",
   "execution_count": null,
   "id": "a307bf3c",
   "metadata": {},
   "outputs": [],
   "source": [
    "# --- Exercise 38 ---\n",
    "number_squares = [(x, x**2) for x in range(1, 6)]\n"
   ]
  },
  {
   "cell_type": "code",
   "execution_count": null,
   "id": "4a6e4eea",
   "metadata": {},
   "outputs": [],
   "source": [
    "# --- Exercise 39 ---\n",
    "def second_elements(lst):\n",
    "    return [x[1] for x in lst]\n"
   ]
  },
  {
   "cell_type": "code",
   "execution_count": null,
   "id": "3cef0ed0",
   "metadata": {},
   "outputs": [],
   "source": [
    "# --- Exercise 40 ---\n",
    "def flatten(lst_of_lsts):\n",
    "    return [item for sublist in lst_of_lsts for item in sublist]\n"
   ]
  },
  {
   "cell_type": "code",
   "execution_count": null,
   "id": "297fd3e8",
   "metadata": {},
   "outputs": [],
   "source": [
    "# --- Exercise 41 ---\n",
    "for idx, val in enumerate([\"apple\",\"banana\",\"cherry\"]):\n",
    "    print(idx, val)\n"
   ]
  },
  {
   "cell_type": "code",
   "execution_count": null,
   "id": "7131c1a2",
   "metadata": {},
   "outputs": [],
   "source": [
    "# --- Exercise 42 ---\n",
    "def is_tuple_empty(t):\n",
    "    return len(t) == 0\n"
   ]
  },
  {
   "cell_type": "code",
   "execution_count": null,
   "id": "9bed8f85",
   "metadata": {},
   "outputs": [],
   "source": [
    "# --- Exercise 43 ---\n",
    "even_numbers = list(range(2, 21, 2))\n"
   ]
  },
  {
   "cell_type": "code",
   "execution_count": null,
   "id": "4c747d67",
   "metadata": {},
   "outputs": [],
   "source": [
    "# --- Exercise 44 ---\n",
    "def reverse_list(lst):\n",
    "    return lst[::-1]\n"
   ]
  },
  {
   "cell_type": "code",
   "execution_count": null,
   "id": "cbde4282",
   "metadata": {},
   "outputs": [],
   "source": [
    "# --- Exercise 45 ---\n",
    "cubes_dict = {x: x**3 for x in range(1,6)}\n"
   ]
  },
  {
   "cell_type": "code",
   "execution_count": null,
   "id": "2063c0eb",
   "metadata": {},
   "outputs": [],
   "source": [
    "# --- Exercise 46 ---\n",
    "unique_list = list(dict.fromkeys([1, 2, 2, 3, 4, 4, 5]))\n"
   ]
  },
  {
   "cell_type": "code",
   "execution_count": null,
   "id": "72d56533",
   "metadata": {},
   "outputs": [],
   "source": [
    "# --- Exercise 47 ---\n",
    "def get_values(lst_dicts, key):\n",
    "    return [d[key] for d in lst_dicts if key in d]\n"
   ]
  },
  {
   "cell_type": "code",
   "execution_count": null,
   "id": "73846b55",
   "metadata": {},
   "outputs": [],
   "source": [
    "# --- Exercise 48 ---\n",
    "def fibonacci_gen(n):\n",
    "    a, b = 0, 1\n",
    "    for _ in range(n):\n",
    "        yield a\n",
    "        a, b = b, a+b"
   ]
  },
  {
   "cell_type": "code",
   "execution_count": null,
   "id": "339fee89",
   "metadata": {},
   "outputs": [],
   "source": [
    "# --- Exercise 49 ---\n",
    "def unique_chars(s):\n",
    "    return list(set(s))\n"
   ]
  },
  {
   "cell_type": "code",
   "execution_count": null,
   "id": "25b71ace",
   "metadata": {},
   "outputs": [],
   "source": [
    "# --- Exercise 50 ---\n",
    "def merge_sorted(lst1, lst2):\n",
    "    return sorted(lst1 + lst2)\n"
   ]
  },
  {
   "cell_type": "code",
   "execution_count": null,
   "id": "4e3ace52",
   "metadata": {},
   "outputs": [],
   "source": [
    "# --- Exercise 51 ---\n",
    "filtered = list(filter(lambda x: x%2==0, [1,2,3,4,5,6]))\n"
   ]
  },
  {
   "cell_type": "code",
   "execution_count": null,
   "id": "0940bbc8",
   "metadata": {},
   "outputs": [],
   "source": [
    "# --- Exercise 52 ---\n",
    "dict_from_tuples = dict([(1,2),(3,4),(5,6)])\n"
   ]
  },
  {
   "cell_type": "code",
   "execution_count": null,
   "id": "d01764d3",
   "metadata": {},
   "outputs": [],
   "source": [
    "# --- Exercise 53 ---\n",
    "def symmetric_diff(s1, s2):\n",
    "    return s1 ^ s2\n"
   ]
  },
  {
   "cell_type": "code",
   "execution_count": null,
   "id": "5a181abf",
   "metadata": {},
   "outputs": [],
   "source": [
    "# --- Exercise 54 ---\n",
    "def common_elements(list1, list2, list3):\n",
    "    return list(set(list1) & set(list2) & set(list3))\n"
   ]
  },
  {
   "cell_type": "code",
   "execution_count": null,
   "id": "33380d8b",
   "metadata": {},
   "outputs": [],
   "source": [
    "# --- Exercise 55 ---\n",
    "def factorial(n):\n",
    "    return 1 if n<=1 else n*factorial(n-1)\n"
   ]
  },
  {
   "cell_type": "code",
   "execution_count": null,
   "id": "7b4a87a4",
   "metadata": {},
   "outputs": [],
   "source": [
    "# --- Exercise 56 ---\n",
    "no_empty = list(filter(None, [\"apple\", \"\", \"banana\", \"\", \"cherry\"]))\n"
   ]
  },
  {
   "cell_type": "code",
   "execution_count": null,
   "id": "4a725333",
   "metadata": {},
   "outputs": [],
   "source": [
    "# --- Exercise 57 ---\n",
    "def swap_dict(d):\n",
    "    return {v:k for k,v in d.items()}\n"
   ]
  },
  {
   "cell_type": "code",
   "execution_count": null,
   "id": "3fa33575",
   "metadata": {},
   "outputs": [],
   "source": [
    "# --- Exercise 58 ---\n",
    "def only_even(lst):\n",
    "    return [x for x in lst if x%2==0]\n"
   ]
  },
  {
   "cell_type": "code",
   "execution_count": null,
   "id": "682aa4f5",
   "metadata": {},
   "outputs": [],
   "source": [
    "# --- Exercise 59 ---\n",
    "def first_elements(lst):\n",
    "    return [x[0] for x in lst]\n"
   ]
  },
  {
   "cell_type": "code",
   "execution_count": null,
   "id": "333e3c53",
   "metadata": {},
   "outputs": [],
   "source": [
    "# --- Exercise 60 ---\n",
    "def remove_duplicates_ordered(lst):\n",
    "    seen = set()\n",
    "    return [x for x in lst if not (x in seen or seen.add(x))]\n"
   ]
  },
  {
   "cell_type": "code",
   "execution_count": null,
   "id": "05764870",
   "metadata": {},
   "outputs": [],
   "source": [
    "# --- Exercise 61 ---\n",
    "lengths = list(map(len, [\"apple\", \"banana\", \"cherry\"]))\n"
   ]
  },
  {
   "cell_type": "code",
   "execution_count": null,
   "id": "5f03c74c",
   "metadata": {},
   "outputs": [],
   "source": [
    "# --- Exercise 62 ---\n",
    "def average(lst):\n",
    "    return sum(lst)/len(lst)\n"
   ]
  },
  {
   "cell_type": "code",
   "execution_count": 44,
   "id": "e80085b1",
   "metadata": {},
   "outputs": [
    {
     "data": {
      "text/plain": [
       "2"
      ]
     },
     "execution_count": 44,
     "metadata": {},
     "output_type": "execute_result"
    }
   ],
   "source": [
    "# --- Exercise 63 ---\n",
    "def fib(n):\n",
    "    if n == 0:\n",
    "        return 0\n",
    "    if n==1:\n",
    "        return 1\n",
    "    return fib(n-1) + fib(n-2)\n",
    "fib(3)"
   ]
  },
  {
   "cell_type": "code",
   "execution_count": 47,
   "id": "ca22544c",
   "metadata": {},
   "outputs": [
    {
     "name": "stdout",
     "output_type": "stream",
     "text": [
      "{'apple': 2, 'banana': 1, 'cherry': 1}\n"
     ]
    }
   ],
   "source": [
    "# --- Exercise 64 ---\n",
    "fruits = [\"apple\", \"banana\", \"apple\", \"cherry\"]\n",
    "\n",
    "counter = {} \n",
    "\n",
    "for fruit in fruits:\n",
    "    if fruit in counter:\n",
    "        counter[fruit] += 1\n",
    "    else:\n",
    "        counter[fruit] = 1\n",
    "\n",
    "print(counter)\n"
   ]
  },
  {
   "cell_type": "code",
   "execution_count": 48,
   "id": "3833e3f5",
   "metadata": {},
   "outputs": [
    {
     "name": "stdout",
     "output_type": "stream",
     "text": [
      "[1, 3, 4, 5]\n"
     ]
    }
   ],
   "source": [
    "# --- Exercise 65 ---\n",
    "numbers = [1, 2, 3, 2, 4, 2, 5]\n",
    "value_to_remove = 2\n",
    "\n",
    "while value_to_remove in numbers:\n",
    "    numbers.remove(value_to_remove)\n",
    "\n",
    "print(numbers)\n"
   ]
  },
  {
   "cell_type": "code",
   "execution_count": 55,
   "id": "bac1c3df",
   "metadata": {},
   "outputs": [
    {
     "name": "stdout",
     "output_type": "stream",
     "text": [
      "['apple', 'orange', 'Umbrella', 'Ice']\n"
     ]
    }
   ],
   "source": [
    "# --- Exercise 66 ---\n",
    "def words_starting_with_vowel(words):\n",
    "    vowels = 'aeiouAEIOU'   \n",
    "    out = []             \n",
    "\n",
    "    for word in words:      \n",
    "        if word and word[0] in vowels:   \n",
    "            out.append(word)          \n",
    "\n",
    "    return out\n",
    "\n",
    "words = [\"apple\", \"Banana\", \"orange\", \"Grape\", \"Umbrella\", \"cherry\", \"Ice\"]\n",
    "print(words_starting_with_vowel(words))\n"
   ]
  },
  {
   "cell_type": "code",
   "execution_count": 56,
   "id": "d4d218d4",
   "metadata": {},
   "outputs": [
    {
     "data": {
      "text/plain": [
       "{1, 2}"
      ]
     },
     "execution_count": 56,
     "metadata": {},
     "output_type": "execute_result"
    }
   ],
   "source": [
    "# --- Exercise 67 ---\n",
    "def set_intersection(s1,s2):\n",
    "    return s1 & s2\n",
    "s1 = {1, 2, 3}\n",
    "s2 = {1, 2}\n",
    "set_intersection(s1,s2)"
   ]
  },
  {
   "cell_type": "code",
   "execution_count": 57,
   "id": "125170a7",
   "metadata": {},
   "outputs": [
    {
     "name": "stdout",
     "output_type": "stream",
     "text": [
      "[1, 2, 3, 4, 5, 6, 7, 8]\n"
     ]
    }
   ],
   "source": [
    "# --- Exercise 68 ---\n",
    "def flatten_list(lst):\n",
    "    new_list = []\n",
    "    for item in lst:\n",
    "        if type(item) == list:       \n",
    "            new_list += flatten_list(item)\n",
    "        else:\n",
    "            new_list.append(item)     \n",
    "    return new_list\n",
    "\n",
    "nested = [1, [2, [3, 4], 5], [6, 7], 8]\n",
    "print(flatten_list(nested))\n",
    "\n"
   ]
  },
  {
   "cell_type": "code",
   "execution_count": null,
   "id": "3259d3b7",
   "metadata": {},
   "outputs": [],
   "source": [
    "# --- Exercise 69 ---\n",
    "def all_unique(lst):\n",
    "    return len(lst) == len(set(lst))\n"
   ]
  },
  {
   "cell_type": "code",
   "execution_count": 65,
   "id": "85ecf065",
   "metadata": {},
   "outputs": [
    {
     "name": "stdout",
     "output_type": "stream",
     "text": [
      "Liste : [1, 2, 3]\n",
      "Product of all elements: 6\n"
     ]
    }
   ],
   "source": [
    "# --- Exercise 70 ---\n",
    "from functools import reduce\n",
    "\n",
    "list_number = [1, 2, 3]\n",
    "\n",
    "def mult(x, y):\n",
    "    return x * y\n",
    "\n",
    "product = reduce(mult, list_number)\n",
    "\n",
    "print(\"Liste :\", list_number)\n",
    "print(\"Product of all elements:\", product)\n"
   ]
  },
  {
   "cell_type": "code",
   "execution_count": 66,
   "id": "fcd316c4",
   "metadata": {},
   "outputs": [
    {
     "data": {
      "text/plain": [
       "{'abc': 3, 'dec': 3}"
      ]
     },
     "execution_count": 66,
     "metadata": {},
     "output_type": "execute_result"
    }
   ],
   "source": [
    "# --- Exercise 71 ---\n",
    "def string_length_dict(lst):\n",
    "    return {s: len(s) for s in lst}\n",
    "\n",
    "string_length_dict([\"abc\",\"dec\"])"
   ]
  },
  {
   "cell_type": "code",
   "execution_count": null,
   "id": "2ae7c69f",
   "metadata": {},
   "outputs": [],
   "source": [
    "# --- Exercise 72 ---\n",
    "def count_vowels(s):\n",
    "    return sum(1 for c in s.lower() if c in 'aeiou')\n"
   ]
  },
  {
   "cell_type": "code",
   "execution_count": null,
   "id": "765103e3",
   "metadata": {},
   "outputs": [],
   "source": [
    "# --- Exercise 73 ---\n",
    "import math\n",
    "factorial_tuples = [(x, math.factorial(x)) for x in range(1,6)]\n"
   ]
  },
  {
   "cell_type": "code",
   "execution_count": null,
   "id": "925a577c",
   "metadata": {},
   "outputs": [],
   "source": [
    "# --- Exercise 74 ---\n",
    "def merge_dicts(dicts):\n",
    "    result = {}\n",
    "    for d in dicts:\n",
    "        result.update(d)\n",
    "    return result\n"
   ]
  },
  {
   "cell_type": "code",
   "execution_count": null,
   "id": "0860ee3c",
   "metadata": {},
   "outputs": [],
   "source": [
    "# --- Exercise 75 ---\n",
    "def is_subset(s1,s2):\n",
    "    return s1 <= s2\n"
   ]
  },
  {
   "cell_type": "code",
   "execution_count": null,
   "id": "7c32a651",
   "metadata": {},
   "outputs": [],
   "source": [
    "# --- Exercise 76 ---\n",
    "def sort_by_second(lst):\n",
    "    return sorted(lst, key=lambda x: x[1])\n"
   ]
  },
  {
   "cell_type": "code",
   "execution_count": null,
   "id": "757e23fc",
   "metadata": {},
   "outputs": [],
   "source": [
    "# --- Exercise 77 ---\n",
    "def positive_only(lst):\n",
    "    return [x for x in lst if x>0]\n"
   ]
  },
  {
   "cell_type": "code",
   "execution_count": null,
   "id": "371d2e65",
   "metadata": {},
   "outputs": [],
   "source": [
    "# --- Exercise 78 ---\n",
    "def union_sets(s1,s2):\n",
    "    return s1 | s2"
   ]
  },
  {
   "cell_type": "code",
   "execution_count": null,
   "id": "88211cff",
   "metadata": {},
   "outputs": [],
   "source": [
    "# --- Exercise 79 ---\n",
    "def product_numbers(lst):\n",
    "    from functools import reduce\n",
    "    import operator\n",
    "    return reduce(operator.mul, lst, 1)\n"
   ]
  },
  {
   "cell_type": "code",
   "execution_count": null,
   "id": "403fc302",
   "metadata": {},
   "outputs": [],
   "source": [
    "# --- Exercise 80 ---\n",
    "chars = ['a','b','c']\n",
    "string_from_chars = ''.join(chars)\n"
   ]
  },
  {
   "cell_type": "code",
   "execution_count": null,
   "id": "98529787",
   "metadata": {},
   "outputs": [],
   "source": [
    "# --- Exercise 81 ---\n",
    "def second_largest(lst):\n",
    "    return sorted(lst)[-2]\n"
   ]
  },
  {
   "cell_type": "code",
   "execution_count": null,
   "id": "e89a4722",
   "metadata": {},
   "outputs": [],
   "source": [
    "# --- Exercise 82 ---\n",
    "def sorted_keys(d):\n",
    "    return sorted(d.keys())\n"
   ]
  },
  {
   "cell_type": "code",
   "execution_count": null,
   "id": "8ba4efa9",
   "metadata": {},
   "outputs": [],
   "source": [
    "# --- Exercise 83 ---\n",
    "def most_common_element(lst):\n",
    "    return Counter(lst).most_common(1)[0][0]\n"
   ]
  },
  {
   "cell_type": "code",
   "execution_count": null,
   "id": "8140abfe",
   "metadata": {},
   "outputs": [],
   "source": [
    "# --- Exercise 84 ---\n",
    "def sort_tuples(lst):\n",
    "    return sorted(lst, key=lambda x:x[0])\n"
   ]
  },
  {
   "cell_type": "code",
   "execution_count": null,
   "id": "d6c61c29",
   "metadata": {},
   "outputs": [],
   "source": [
    "# --- Exercise 85 ---\n",
    "def remove_dict_duplicates(lst_dicts):\n",
    "    seen = []\n",
    "    result = []\n",
    "    for d in lst_dicts:\n",
    "        if d not in seen:\n",
    "            seen.append(d)\n",
    "            result.append(d)\n",
    "    return result\n"
   ]
  },
  {
   "cell_type": "code",
   "execution_count": null,
   "id": "a94450a7",
   "metadata": {},
   "outputs": [],
   "source": [
    "# --- Exercise 86 ---\n",
    "def min_max(lst):\n",
    "    return min(lst), max(lst)\n"
   ]
  },
  {
   "cell_type": "code",
   "execution_count": null,
   "id": "b5700511",
   "metadata": {},
   "outputs": [],
   "source": [
    "# --- Exercise 87 ---\n",
    "def list_of_tuples(lst1,lst2):\n",
    "    return list(zip(lst1,lst2))\n"
   ]
  },
  {
   "cell_type": "code",
   "execution_count": null,
   "id": "e9a9a743",
   "metadata": {},
   "outputs": [],
   "source": [
    "# --- Exercise 88 ---\n",
    "def reverse_strings(lst):\n",
    "    return [s[::-1] for s in lst]\n"
   ]
  },
  {
   "cell_type": "code",
   "execution_count": null,
   "id": "35df917a",
   "metadata": {},
   "outputs": [],
   "source": [
    "# --- Exercise 89 ---\n",
    "def sum_odds(lst):\n",
    "    return sum(x for x in lst if x%2!=0)\n"
   ]
  },
  {
   "cell_type": "code",
   "execution_count": null,
   "id": "e4e03721",
   "metadata": {},
   "outputs": [],
   "source": [
    "# --- Exercise 90 ---\n",
    "def is_palindrome(s):\n",
    "    return s == s[::-1]\n"
   ]
  },
  {
   "cell_type": "code",
   "execution_count": null,
   "id": "a480e504",
   "metadata": {},
   "outputs": [],
   "source": [
    "# --- Exercise 91 ---\n",
    "def median(lst):\n",
    "    lst_sorted = sorted(lst)\n",
    "    n = len(lst_sorted)\n",
    "    mid = n//2\n",
    "    if n%2==0:\n",
    "        return (lst_sorted[mid-1]+lst_sorted[mid])/2\n",
    "    else:\n",
    "        return lst_sorted[mid]\n"
   ]
  },
  {
   "cell_type": "code",
   "execution_count": null,
   "id": "9b89fd7b",
   "metadata": {},
   "outputs": [],
   "source": [
    "# --- Exercise 92 ---\n",
    "def sum_dicts(lst_dicts):\n",
    "    result = {}\n",
    "    for d in lst_dicts:\n",
    "        for k,v in d.items():\n",
    "            result[k] = result.get(k,0) + v\n",
    "    return result\n"
   ]
  },
  {
   "cell_type": "code",
   "execution_count": null,
   "id": "aeada537",
   "metadata": {},
   "outputs": [],
   "source": [
    "# --- Exercise 93 ---\n",
    "def mode(lst):\n",
    "    return Counter(lst).most_common(1)[0][0]\n"
   ]
  },
  {
   "cell_type": "code",
   "execution_count": null,
   "id": "59c4ce75",
   "metadata": {},
   "outputs": [],
   "source": [
    "# --- Exercise 94 ---\n",
    "def sum_squares(lst):\n",
    "    return sum(x**2 for x in lst)\n"
   ]
  },
  {
   "cell_type": "code",
   "execution_count": null,
   "id": "6908ab0a",
   "metadata": {},
   "outputs": [],
   "source": [
    "# --- Exercise 95 ---\n",
    "cubes_tuples = [(x,x**3) for x in range(1,6)]\n"
   ]
  },
  {
   "cell_type": "code",
   "execution_count": null,
   "id": "3eac45d5",
   "metadata": {},
   "outputs": [],
   "source": [
    "# --- Exercise 96 ---\n",
    "def primes_up_to(n):\n",
    "    sieve = [True]*(n+1)\n",
    "    sieve[0:2]=[False,False]\n",
    "    for i in range(2,int(n**0.5)+1):\n",
    "        if sieve[i]:\n",
    "            for j in range(i*i,n+1,i):\n",
    "                sieve[j]=False\n",
    "    return [i for i,prime in enumerate(sieve) if prime]\n"
   ]
  },
  {
   "cell_type": "code",
   "execution_count": null,
   "id": "ed0bbeaa",
   "metadata": {},
   "outputs": [],
   "source": [
    "# --- Exercise 97 ---\n",
    "def common_keys(d1,d2):\n",
    "    return set(d1.keys()) & set(d2.keys())\n"
   ]
  },
  {
   "cell_type": "code",
   "execution_count": null,
   "id": "fdb951b2",
   "metadata": {},
   "outputs": [],
   "source": [
    "# --- Exercise 98 ---\n",
    "def long_strings(lst):\n",
    "    return [s for s in lst if len(s)>5]\n"
   ]
  },
  {
   "cell_type": "code",
   "execution_count": 12,
   "id": "b328d535",
   "metadata": {},
   "outputs": [
    {
     "name": "stdout",
     "output_type": "stream",
     "text": [
      "[('apple', 5), ('banana', 6)]\n"
     ]
    }
   ],
   "source": [
    "# --- Exercise 99 ---\n",
    "def string_length_tuples(lst):\n",
    "    result = []\n",
    "    for s in lst:\n",
    "        result.append((s, len(s)))\n",
    "    return result\n",
    "fruits = [\"apple\", \"banana\"]\n",
    "print(string_length_tuples(fruits))\n"
   ]
  },
  {
   "cell_type": "code",
   "execution_count": 10,
   "id": "982f952b",
   "metadata": {},
   "outputs": [
    {
     "name": "stdout",
     "output_type": "stream",
     "text": [
      "{'Banana': 20, 'mangoes': 30, 'Apple': 5, 'January': 1}\n"
     ]
    }
   ],
   "source": [
    "# --- Exercise 100 ---\n",
    "def sum_dict_keys(list_dicts):\n",
    "    result = {}\n",
    "    for d in list_dicts:\n",
    "        for k, v in d.items():\n",
    "            result[k] = result.get(k, 0) + v\n",
    "    return result\n",
    "\n",
    "list_dicts = [{'Banana': 20}, {'mangoes': 30}, {'Apple': 5}, {'January':1}]\n",
    "print(sum_dict_keys(list_dicts))\n"
   ]
  }
 ],
 "metadata": {
  "kernelspec": {
   "display_name": "Python 3 (ipykernel)",
   "language": "python",
   "name": "python3"
  },
  "language_info": {
   "codemirror_mode": {
    "name": "ipython",
    "version": 3
   },
   "file_extension": ".py",
   "mimetype": "text/x-python",
   "name": "python",
   "nbconvert_exporter": "python",
   "pygments_lexer": "ipython3",
   "version": "3.12.3"
  }
 },
 "nbformat": 4,
 "nbformat_minor": 5
}

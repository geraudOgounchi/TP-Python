{
 "cells": [
  {
   "cell_type": "markdown",
   "id": "d68c1dee",
   "metadata": {
    "id": "d68c1dee"
   },
   "source": [
    "# Practical_4: Flow control"
   ]
  },
  {
   "cell_type": "code",
   "execution_count": 3,
   "id": "c4a5f373",
   "metadata": {},
   "outputs": [
    {
     "name": "stdout",
     "output_type": "stream",
     "text": [
      "-5  is negative\n"
     ]
    }
   ],
   "source": [
    "#Exercise 1:\n",
    "\"\"\"\n",
    "Write a Python program that checks if a number is positive or negative.\n",
    "\"\"\"\n",
    "n = -5\n",
    "if n < 0:\n",
    "    print(n,\" is negative\")\n",
    "else:\n",
    "    print(n,\" is positive\")\n",
    "    "
   ]
  },
  {
   "cell_type": "code",
   "execution_count": 2,
   "id": "aba62774",
   "metadata": {},
   "outputs": [
    {
     "name": "stdout",
     "output_type": "stream",
     "text": [
      "Gérau  does not start with a vowel\n"
     ]
    }
   ],
   "source": [
    "# Exercise 2:\n",
    "\"\"\"\n",
    "Write a Python function that checks if a string starts with a vowel.\n",
    "\"\"\"\n",
    "\n",
    "def cheks_voyelle(string):\n",
    "    voyelle = [\"A\",\"a\",\"E\",\"e\",\"I\",\"i\",\"O\",\"o\",\"U\",\"u\",\"Y\",\"y\"]\n",
    "    \n",
    "    if string[0] in voyelle:\n",
    "        print(string, \" starts with a vowel\")\n",
    "        \n",
    "    else:\n",
    "        print(string, \" does not start with a vowel\")\n",
    "\n",
    "\n",
    "string = \"Géraud\"\n",
    "cheks_voyelle(string)\n"
   ]
  },
  {
   "cell_type": "code",
   "execution_count": 20,
   "id": "984ae2fb",
   "metadata": {},
   "outputs": [
    {
     "name": "stdout",
     "output_type": "stream",
     "text": [
      "1 is Odd number\n",
      "2 is Even number\n",
      "3 is Odd number\n",
      "4 is Even number\n",
      "0 is Even number\n",
      "18 is Even number\n",
      "87 is Odd number\n",
      "65 is Odd number\n",
      "90 is Even number\n",
      "4 is Even number\n",
      "788 is Even number\n",
      "78 is Even number\n",
      "542 is Even number\n",
      "\n",
      "---Another way to display the answer----\n",
      "Dictionary result:  {1: 'Odd', 2: 'Even', 3: 'Odd', 4: 'Even', 0: 'Even', 18: 'Even', 87: 'Odd', 65: 'Odd', 90: 'Even', 788: 'Even', 78: 'Even', 542: 'Even'}\n"
     ]
    }
   ],
   "source": [
    "# Exercise 3:\n",
    "\"\"\"\n",
    "Write a Python program that takes a list of integers and prints 'Even'\n",
    "for each even number and 'Odd' for each odd number.\n",
    "\"\"\"\n",
    "\n",
    "liste = [1, 2, 3, 4, 0, 18, 87, 65, 90, 4, 788, 78, 542]\n",
    "\n",
    "for i in range(len(liste)):\n",
    "    if liste[i] % 2 == 0:\n",
    "        print(liste[i], \"is Even number\")\n",
    "    else:\n",
    "        print(liste[i], \"is Odd number\")\n",
    "\n",
    "# I want to store the results in a dictionary; the keys are the numbers\n",
    "# of the liste and their values are 'Odd' or 'Even'\n",
    "\n",
    "print(\"\\n---Another way to display the answer----\")\n",
    "dict_list = {}\n",
    "for i in liste:\n",
    "    if i % 2 == 0:\n",
    "        dict_list[i] = \"Even\"\n",
    "    else:\n",
    "        dict_list[i] = \"Odd\"\n",
    "\n",
    "print(\"Dictionary result: \",dict_list)"
   ]
  },
  {
   "cell_type": "code",
   "execution_count": 27,
   "id": "605bf3e0",
   "metadata": {},
   "outputs": [
    {
     "name": "stdout",
     "output_type": "stream",
     "text": [
      "Enter a year : 2025\n",
      "2025  is not a leap year\n"
     ]
    }
   ],
   "source": [
    "#Exercise 4:\n",
    "\"\"\"\n",
    "Write a Python program that checks if a given year is a leap year.\n",
    "\"\"\"\n",
    "\n",
    "year = int(input(\"Enter a year : \"))\n",
    "\n",
    "if (year % 4 == 0 and year % 100 != 0) or (year % 400 == 0):\n",
    "    print(year,\" is a leap year\")\n",
    "else:\n",
    "    print(year,\" is not a leap year\")\n",
    "    "
   ]
  },
  {
   "cell_type": "code",
   "execution_count": 29,
   "id": "985bc0f0",
   "metadata": {},
   "outputs": [
    {
     "name": "stdout",
     "output_type": "stream",
     "text": [
      "Enter a number : 15\n",
      "15 is divisible by both 3 and 5.\n"
     ]
    }
   ],
   "source": [
    "#Exercise 5:\n",
    "\"\"\"\n",
    "Write a Python function that checks if a number is divisible by both 3 and 5.\n",
    "\"\"\"\n",
    "\n",
    "n = int(input(\"Enter a number : \"))\n",
    "if n%3==0 and n%5==0:\n",
    "    print(n, \"is divisible by both 3 and 5.\")\n",
    "else:\n",
    "    print(n, \"is not divisible by both 3 and 5.\")"
   ]
  },
  {
   "cell_type": "code",
   "execution_count": 36,
   "id": "43669381",
   "metadata": {},
   "outputs": [
    {
     "name": "stdout",
     "output_type": "stream",
     "text": [
      "Enter the temperature : 35\n",
      "Hot\n"
     ]
    }
   ],
   "source": [
    "#Exercise 6:\n",
    "\"\"\"\n",
    "Write a Python program that prints \"Hot\" if the temperature is above 30, \"Warm\" if it is between 15 and 30, and \"Cold\" if it is below 15.\n",
    "\"\"\"\n",
    "\n",
    "temp = float(input(\"Enter the temperature : \"  ))\n",
    "\n",
    "if temp < 15:\n",
    "    print(\"Cold\")\n",
    "elif 15 <= temp <=30:\n",
    "    print(\"Warm\")\n",
    "else:\n",
    "    print(\"Hot\")"
   ]
  },
  {
   "cell_type": "code",
   "execution_count": 15,
   "id": "6b0d4c11",
   "metadata": {},
   "outputs": [
    {
     "name": "stdout",
     "output_type": "stream",
     "text": [
      "Géraud  contains 'a'\n"
     ]
    }
   ],
   "source": [
    "#Exercise 7:\n",
    "\"\"\"\n",
    "Write a Python program that checks if a string contains the letter 'a'.\n",
    "\n",
    "def check_a(string):\n",
    "    if 'a' in string:\n",
    "        print(string,\" contains 'a'\")\n",
    "    else:\n",
    "        print(string,\" doesn't contains 'a'\")\n",
    "\n",
    "string = \"Diop\"\n",
    "check_a(string)\n",
    "\"\"\"\n",
    "string = \"Géraud\"\n",
    "if string.count('a') !=0:\n",
    "    print(string,\" contains 'a'\")\n",
    "else:\n",
    "    print(string,\" doesn't contains 'a'\")"
   ]
  },
  {
   "cell_type": "code",
   "execution_count": 56,
   "id": "39acec23",
   "metadata": {},
   "outputs": [
    {
     "name": "stdout",
     "output_type": "stream",
     "text": [
      "-2  is larger to  -8\n"
     ]
    }
   ],
   "source": [
    "#Exercise 8:\n",
    "\"\"\"\n",
    "Write a Python function that checks if two numbers are equal, or which one is larger.\n",
    "\"\"\"\n",
    "\n",
    "def checks_equal_larger(a, b):\n",
    "    if a==b:\n",
    "        print(a, \" is equal to \", b)\n",
    "    \n",
    "    elif a <= b:\n",
    "        print(b, \" is larger to \", a)\n",
    "    else:\n",
    "        print(a, \" is larger to \", b)\n",
    "            \n",
    "checks_equal_larger(-2, -8)"
   ]
  },
  {
   "cell_type": "code",
   "execution_count": 76,
   "id": "640fcfff",
   "metadata": {},
   "outputs": [
    {
     "name": "stdout",
     "output_type": "stream",
     "text": [
      "[1, 2]  is not empty\n"
     ]
    }
   ],
   "source": [
    "#Exercise 9:\n",
    "\"\"\"\n",
    "Write a Python program that checks if a list is empty.\n",
    "\"\"\"\n",
    "\n",
    "liste = [1, 2]\n",
    "\n",
    "if len(liste) == 0:\n",
    "    print(liste,\" is empty\")\n",
    "else:\n",
    "    print(liste,\" is not empty\")\n",
    "    "
   ]
  },
  {
   "cell_type": "code",
   "execution_count": 16,
   "id": "ce5b53c7",
   "metadata": {},
   "outputs": [
    {
     "name": "stdout",
     "output_type": "stream",
     "text": [
      "'The eyes' and 'They see' are anagrams.\n"
     ]
    }
   ],
   "source": [
    "#Exercise 10:\n",
    "\"\"\"\n",
    "Write a Python function that takes two strings and checks if they are anagrams.\n",
    "\"\"\"\n",
    "def are_anagrams(str1, str2):\n",
    "    clean1 = \"\"\n",
    "    for ch in str1:\n",
    "        if ch.isalnum():\n",
    "            clean1 += ch.lower()\n",
    "    \n",
    "    clean2 = \"\"\n",
    "    for ch in str2:\n",
    "        if ch.isalnum():\n",
    "            clean2 += ch.lower()\n",
    "    return sorted(clean1) == sorted(clean2)\n",
    "\n",
    "string1 = \"The eyes\"\n",
    "string2 = \"They see\"\n",
    "\n",
    "if are_anagrams(string1, string2):\n",
    "    print(f\"'{string1}' and '{string2}' are anagrams.\")\n",
    "else:\n",
    "    print(f\"'{string1}' and '{string2}' are not anagrams.\")\n"
   ]
  },
  {
   "cell_type": "code",
   "execution_count": 19,
   "id": "d7ed0e07",
   "metadata": {},
   "outputs": [
    {
     "name": "stdout",
     "output_type": "stream",
     "text": [
      "Enter a number: 101\n",
      "101 is a prime number.\n"
     ]
    }
   ],
   "source": [
    "#Exercise 11:\n",
    "\"\"\"\n",
    "Write a Python program that checks if a number is prime.\n",
    "\"\"\"\n",
    "\n",
    "def is_prime(n):\n",
    "    if n <= 1:\n",
    "        return False\n",
    "    \n",
    "    for i in range(2, n):\n",
    "        if n % i == 0:\n",
    "            return False  \n",
    "    return True\n",
    "\n",
    "n = int(input(\"Enter a number: \"))\n",
    "\n",
    "if is_prime(n):\n",
    "    print(n, \"is a prime number.\")\n",
    "else:\n",
    "    print(n, \"is not a prime number.\")\n"
   ]
  },
  {
   "cell_type": "code",
   "execution_count": 27,
   "id": "37d89651",
   "metadata": {},
   "outputs": [
    {
     "name": "stdout",
     "output_type": "stream",
     "text": [
      "True\n"
     ]
    }
   ],
   "source": [
    "#Exercise 12:\n",
    "\"\"\"\n",
    "Write a Python program that checks if a list of numbers is sorted in ascending order.\n",
    "\"\"\"\n",
    "\n",
    "\n",
    "def ascending(list_number):\n",
    "    for i in range(len(list_number)-1):\n",
    "        if list_number[i]>list_number[i+1]:\n",
    "            return False\n",
    "        \n",
    "    return True\n",
    "\n",
    "list_number = [1, 2, 3]\n",
    "print(ascending(list_number))\n",
    "\n"
   ]
  },
  {
   "cell_type": "code",
   "execution_count": 34,
   "id": "f5c00dee",
   "metadata": {},
   "outputs": [
    {
     "name": "stdout",
     "output_type": "stream",
     "text": [
      "Enter a character: 4\n",
      "True\n"
     ]
    }
   ],
   "source": [
    "# Exercise 13:\n",
    "\"\"\"\n",
    "Write a Python function that takes a character and checks if it is a digit.\n",
    "\"\"\"\n",
    "\n",
    "def is_digit(ch):\n",
    "    n = ['0','1','2','3','4','5','6','7','8','9'] \n",
    "    if ch in n:\n",
    "        return True\n",
    "    else:\n",
    "        return False\n",
    "\n",
    "char = input(\"Enter a character: \")\n",
    "print(is_digit(char))\n",
    "\n"
   ]
  },
  {
   "cell_type": "code",
   "execution_count": 38,
   "id": "c6582a48",
   "metadata": {},
   "outputs": [
    {
     "name": "stdout",
     "output_type": "stream",
     "text": [
      "True\n",
      "False\n"
     ]
    }
   ],
   "source": [
    "# Exercise 14\n",
    "def is_uppercase(s):\n",
    "    for ch in s:\n",
    "        if not ch.isupper():\n",
    "            return False\n",
    "    return True\n",
    "\n",
    "print(is_uppercase(\"HELLO\"))  \n",
    "print(is_uppercase(\"Hello\"))\n"
   ]
  },
  {
   "cell_type": "code",
   "execution_count": 40,
   "id": "9716f7ab",
   "metadata": {},
   "outputs": [
    {
     "name": "stdout",
     "output_type": "stream",
     "text": [
      "Enter a number: 105\n",
      "105 is not a multiple of 10.\n"
     ]
    }
   ],
   "source": [
    "#Exercise 15\n",
    "number = int(input(\"Enter a number: \"))\n",
    "\n",
    "if number % 10 == 0:\n",
    "    print(number, \"is a multiple of 10.\")\n",
    "else:\n",
    "    print(number, \"is not a multiple of 10.\")\n"
   ]
  },
  {
   "cell_type": "code",
   "execution_count": 42,
   "id": "d169fe31",
   "metadata": {},
   "outputs": [
    {
     "name": "stdout",
     "output_type": "stream",
     "text": [
      "False\n",
      "True\n"
     ]
    }
   ],
   "source": [
    "#Exercise 16\n",
    "\n",
    "def duplicate(lst):\n",
    "    return len(lst) != len(set(lst))\n",
    "\n",
    "print(duplicate([1, 2, 3, 4]))     \n",
    "print(duplicate([1, 2, 3, 2]))    \n"
   ]
  },
  {
   "cell_type": "code",
   "execution_count": 43,
   "id": "345ae48e",
   "metadata": {},
   "outputs": [
    {
     "name": "stdout",
     "output_type": "stream",
     "text": [
      "Enter your age: 20\n",
      "Not a teenager\n"
     ]
    }
   ],
   "source": [
    "#Exercise 17\n",
    "age = int(input(\"Enter your age: \"))\n",
    "\n",
    "if 13 <= age <= 19:\n",
    "    print(\"Teenager\")\n",
    "else:\n",
    "    print(\"Not a teenager\")\n"
   ]
  },
  {
   "cell_type": "code",
   "execution_count": 45,
   "id": "36a45676",
   "metadata": {},
   "outputs": [
    {
     "name": "stdout",
     "output_type": "stream",
     "text": [
      "False\n",
      "True\n"
     ]
    }
   ],
   "source": [
    "#Exercise 18\n",
    "def list_100(lst):\n",
    "    for n in lst:\n",
    "        if n > 100:\n",
    "            return True\n",
    "    return False\n",
    "\n",
    "print(list_100([12, 100]))  \n",
    "print(list_100([-5, 200])) \n"
   ]
  },
  {
   "cell_type": "code",
   "execution_count": 48,
   "id": "2a842c67",
   "metadata": {},
   "outputs": [
    {
     "name": "stdout",
     "output_type": "stream",
     "text": [
      "Enter a number: 4\n",
      "Even\n"
     ]
    }
   ],
   "source": [
    "#Exercise 19\n",
    "def even_odd(n):\n",
    "    if n % 2 == 0:\n",
    "        print(\"Even\")\n",
    "    else:\n",
    "        print(\"Odd\")\n",
    "\n",
    "number = int(input(\"Enter a number: \"))\n",
    "even_odd(number)\n"
   ]
  },
  {
   "cell_type": "code",
   "execution_count": 50,
   "id": "369a7fb0",
   "metadata": {},
   "outputs": [
    {
     "name": "stdout",
     "output_type": "stream",
     "text": [
      "True\n",
      "False\n"
     ]
    }
   ],
   "source": [
    "# Exercise 20\n",
    "def ends_with_punctuation(s):\n",
    "    if s[-1] in [\".\", \"!\", \"?\"]:\n",
    "        return True\n",
    "    return False\n",
    "print(ends_with_punctuation(\"Hello!\"))\n",
    "print(ends_with_punctuation(\"Hello\"))\n"
   ]
  },
  {
   "cell_type": "code",
   "execution_count": null,
   "id": "b69b9eeb",
   "metadata": {},
   "outputs": [],
   "source": [
    "# Exercise 21\n",
    "\n",
    "number = int(input(\"Enter a number: \"))\n",
    "\n",
    "if 1 <= number <= 100:\n",
    "    print(\"Yes\")\n",
    "else:\n",
    "    print(\"No\")\n"
   ]
  },
  {
   "cell_type": "code",
   "execution_count": null,
   "id": "1f23dbc0",
   "metadata": {},
   "outputs": [],
   "source": [
    "#Exercise 22\n",
    "str1 = input(\"Enter first string: \")\n",
    "str2 = input(\"Enter second string: \")\n",
    "\n",
    "if len(str1) == len(str2):\n",
    "    print(\"Same length\")\n",
    "else:\n",
    "    print(\"Different length\")\n"
   ]
  },
  {
   "cell_type": "code",
   "execution_count": 54,
   "id": "5ba47298",
   "metadata": {},
   "outputs": [
    {
     "name": "stdout",
     "output_type": "stream",
     "text": [
      "Enter a number45\n",
      "45 is not greater than this reverse\n"
     ]
    }
   ],
   "source": [
    "#Exercise 23\n",
    "def is_greater_than_reverse(n):\n",
    "    reverse_n = int(str(n)[::-1])\n",
    "    return n > reverse_n\n",
    "\n",
    "number = int(input(\"Enter a number\"))\n",
    "if is_greater_than_reverse(number):\n",
    "    print(f\"{number} is greater than this reverse\")\n",
    "else:\n",
    "    print(f\"{number} is not greater than this reverse\")\n"
   ]
  },
  {
   "cell_type": "code",
   "execution_count": 57,
   "id": "5e48ca59",
   "metadata": {},
   "outputs": [
    {
     "name": "stdout",
     "output_type": "stream",
     "text": [
      "Enter a password: Password\n",
      "Invalid password\n"
     ]
    }
   ],
   "source": [
    "#Exercise 24\n",
    "password = input(\"Enter a password: \")\n",
    "\n",
    "has_letter = False\n",
    "has_digit = False\n",
    "\n",
    "for ch in password:\n",
    "    if ch.isalpha():\n",
    "        has_letter = True\n",
    "    if ch.isdigit():\n",
    "        has_digit = True\n",
    "\n",
    "if has_letter and has_digit:\n",
    "    print(\"Valid password\")\n",
    "else:\n",
    "    print(\"Invalid password\")\n"
   ]
  },
  {
   "cell_type": "code",
   "execution_count": 58,
   "id": "a15b5e37",
   "metadata": {},
   "outputs": [
    {
     "name": "stdout",
     "output_type": "stream",
     "text": [
      "True\n",
      "False\n"
     ]
    }
   ],
   "source": [
    "# Exercise 25\n",
    "def between_numbers(n, a, b):\n",
    "    return a <= n <= b\n",
    "\n",
    "print(between_numbers(15, 10, 20))\n",
    "print(between_numbers(25, 10, 20))\n"
   ]
  },
  {
   "cell_type": "code",
   "execution_count": 59,
   "id": "93be9c3f",
   "metadata": {},
   "outputs": [
    {
     "name": "stdout",
     "output_type": "stream",
     "text": [
      "False\n",
      "True\n"
     ]
    }
   ],
   "source": [
    "# Exercise 26\n",
    "def all_unique(s):\n",
    "    return len(s) == len(set(s))\n",
    "\n",
    "print(all_unique(\"hello\"))\n",
    "print(all_unique(\"abc\"))\n"
   ]
  },
  {
   "cell_type": "code",
   "execution_count": 62,
   "id": "0c774fb0",
   "metadata": {},
   "outputs": [
    {
     "name": "stdout",
     "output_type": "stream",
     "text": [
      "True\n",
      "False\n"
     ]
    }
   ],
   "source": [
    "#Exercise 27\n",
    "\n",
    "def is_perfect_square(n):\n",
    "    i = 1\n",
    "    while i * i <= n:\n",
    "        if i * i == n:\n",
    "            return True\n",
    "        i += 1\n",
    "    return False\n",
    "\n",
    "print(is_perfect_square(49))\n",
    "print(is_perfect_square(50))\n"
   ]
  },
  {
   "cell_type": "code",
   "execution_count": 63,
   "id": "e13a8d93",
   "metadata": {},
   "outputs": [
    {
     "name": "stdout",
     "output_type": "stream",
     "text": [
      "True\n",
      "False\n"
     ]
    }
   ],
   "source": [
    "# Exercise 28\n",
    "def is_palindrome(word):\n",
    "    return word == word[::-1]\n",
    "\n",
    "print(is_palindrome(\"level\"))\n",
    "print(is_palindrome(\"python\"))\n"
   ]
  },
  {
   "cell_type": "code",
   "execution_count": 64,
   "id": "0cffa79b",
   "metadata": {},
   "outputs": [
    {
     "name": "stdout",
     "output_type": "stream",
     "text": [
      "Enter a number: 15\n",
      "FizzBuzz\n"
     ]
    }
   ],
   "source": [
    "# Exercise 29\n",
    "number = int(input(\"Enter a number: \"))\n",
    "\n",
    "if number % 3 == 0 and number % 5 == 0:\n",
    "    print(\"FizzBuzz\")\n",
    "elif number % 3 == 0:\n",
    "    print(\"Fizz\")\n",
    "elif number % 5 == 0:\n",
    "    print(\"Buzz\")\n",
    "else:\n",
    "    print(number)\n"
   ]
  },
  {
   "cell_type": "code",
   "execution_count": 80,
   "id": "3e039090",
   "metadata": {},
   "outputs": [
    {
     "name": "stdout",
     "output_type": "stream",
     "text": [
      "Enter a positive number: 23\n",
      "Not Even\n"
     ]
    }
   ],
   "source": [
    "# Exercise 30\n",
    "\"\"\"\n",
    "Write a Python program that checks if the sum of the digits of a number is even.\n",
    "\"\"\"\n",
    "n = input(\"Enter a positive number: \")\n",
    "n = str(n)\n",
    "s = 0\n",
    "\n",
    "for i in range(len(n)):\n",
    "    s += int(n[i])\n",
    "    \n",
    "if s%2==0:\n",
    "    print(\"Even\")\n",
    "else:\n",
    "    print(\"Not Even\")\n",
    "\n"
   ]
  },
  {
   "cell_type": "code",
   "execution_count": 86,
   "id": "0cb4cc5b",
   "metadata": {},
   "outputs": [
    {
     "name": "stdout",
     "output_type": "stream",
     "text": [
      "True\n",
      "False\n",
      "False\n",
      "False\n"
     ]
    }
   ],
   "source": [
    "# Exercise 31\n",
    "\n",
    "def valid_email(s):\n",
    "    if \"@\" not in s:\n",
    "        return False\n",
    "    if \".\" not in s:\n",
    "        return False\n",
    "    if s.index(\"@\") > s.rindex(\".\"):\n",
    "        return False\n",
    "    if not (s.endswith(\".com\") or s.endswith(\".org\")):\n",
    "        return False\n",
    "    return True\n",
    "\n",
    "# Tests\n",
    "print(valid_email(\"example@gmail.com\"))     \n",
    "print(valid_email(\"examplegmail.com\"))      \n",
    "print(valid_email(\"example.gmail@com\"))     \n",
    "print(valid_email(\"example@gmail.\"))        \n"
   ]
  },
  {
   "cell_type": "code",
   "execution_count": 87,
   "id": "9dc4407c",
   "metadata": {},
   "outputs": [
    {
     "name": "stdout",
     "output_type": "stream",
     "text": [
      "True\n",
      "False\n"
     ]
    }
   ],
   "source": [
    "# Exercise 32\n",
    "def near_hundred(n):\n",
    "    return abs(100 - n) <= 10 or abs(200 - n) <= 10\n",
    "\n",
    "print(near_hundred(93))\n",
    "print(near_hundred(89))\n"
   ]
  },
  {
   "cell_type": "code",
   "execution_count": 88,
   "id": "05f00ce9",
   "metadata": {},
   "outputs": [
    {
     "name": "stdout",
     "output_type": "stream",
     "text": [
      "True\n",
      "False\n"
     ]
    }
   ],
   "source": [
    "# Exercise 33\n",
    "def is_valid_url(s):\n",
    "    return s.startswith((\"http://\", \"https://\"))\n",
    "\n",
    "print(is_valid_url(\"https://example.com\"))\n",
    "print(is_valid_url(\"ftp://example.com\"))"
   ]
  },
  {
   "cell_type": "code",
   "execution_count": null,
   "id": "e5a35092",
   "metadata": {},
   "outputs": [],
   "source": [
    "\n",
    "# Exercise 34\n",
    "def all_even(lst):\n",
    "    return all(n % 2 == 0 for n in lst)\n",
    "print(all_even([2,4,6]))\n",
    "print(all_even([2,3,4]))\n",
    "\n"
   ]
  },
  {
   "cell_type": "code",
   "execution_count": 95,
   "id": "7c1c3dd8",
   "metadata": {},
   "outputs": [
    {
     "name": "stdout",
     "output_type": "stream",
     "text": [
      "True\n",
      "False\n"
     ]
    }
   ],
   "source": [
    "# Exercise 35\n",
    "def longer_than(word, length):\n",
    "    return len(word) > length\n",
    "print(longer_than(\"Python\", 5))\n",
    "print(longer_than(\"Hi\", 5))\n"
   ]
  },
  {
   "cell_type": "code",
   "execution_count": 96,
   "id": "ed7b77a1",
   "metadata": {},
   "outputs": [
    {
     "name": "stdout",
     "output_type": "stream",
     "text": [
      "True\n",
      "False\n"
     ]
    }
   ],
   "source": [
    "# Exercise 36\n",
    "def all_positive(lst):\n",
    "    return all(n > 0 for n in lst)\n",
    "print(all_positive([1,2,3]))\n",
    "print(all_positive([1,-2,3]))\n",
    "\n"
   ]
  },
  {
   "cell_type": "code",
   "execution_count": 97,
   "id": "dfd75668",
   "metadata": {},
   "outputs": [
    {
     "name": "stdout",
     "output_type": "stream",
     "text": [
      "True\n",
      "False\n"
     ]
    }
   ],
   "source": [
    "# Exercise 37\n",
    "def is_century(year):\n",
    "    return year % 100 == 0\n",
    "print(is_century(2000))\n",
    "print(is_century(2023))\n",
    "\n"
   ]
  },
  {
   "cell_type": "code",
   "execution_count": 98,
   "id": "9d15bcfe",
   "metadata": {},
   "outputs": [
    {
     "name": "stdout",
     "output_type": "stream",
     "text": [
      "True\n",
      "False\n"
     ]
    }
   ],
   "source": [
    "# Exercise 38\n",
    "def sum_greater_than_100(lst):\n",
    "    return sum(lst) > 100\n",
    "print(sum_greater_than_100([50,60]))\n",
    "print(sum_greater_than_100([30,40]))\n",
    "\n"
   ]
  },
  {
   "cell_type": "code",
   "execution_count": 99,
   "id": "79b31874",
   "metadata": {},
   "outputs": [
    {
     "name": "stdout",
     "output_type": "stream",
     "text": [
      "True\n",
      "False\n"
     ]
    }
   ],
   "source": [
    "# Exercise 39\n",
    "def is_substring(word, s):\n",
    "    return word in s\n",
    "print(is_substring(\"py\", \"python\"))\n",
    "print(is_substring(\"java\", \"python\"))\n"
   ]
  },
  {
   "cell_type": "code",
   "execution_count": 100,
   "id": "eaa9c458",
   "metadata": {},
   "outputs": [
    {
     "name": "stdout",
     "output_type": "stream",
     "text": [
      "True\n",
      "False\n"
     ]
    }
   ],
   "source": [
    "# Exercise 40\n",
    "def is_power_of_2(n):\n",
    "    return n > 0 and (n & (n - 1)) == 0\n",
    "print(is_power_of_2(8))\n",
    "print(is_power_of_2(10))\n",
    "\n"
   ]
  },
  {
   "cell_type": "code",
   "execution_count": 101,
   "id": "e4fc1a17",
   "metadata": {},
   "outputs": [
    {
     "name": "stdout",
     "output_type": "stream",
     "text": [
      "True\n",
      "False\n"
     ]
    }
   ],
   "source": [
    "# Exercise 41\n",
    "def no_spaces(s):\n",
    "    return \" \" not in s\n",
    "print(no_spaces(\"HelloWorld\"))\n",
    "print(no_spaces(\"Hello World\"))\n",
    "\n"
   ]
  },
  {
   "cell_type": "code",
   "execution_count": 102,
   "id": "3ac072e8",
   "metadata": {},
   "outputs": [
    {
     "name": "stdout",
     "output_type": "stream",
     "text": [
      "Enter a number: 12\n",
      "Yes\n"
     ]
    }
   ],
   "source": [
    "# Exercise 42\n",
    "number = int(input(\"Enter a number: \"))\n",
    "if number % 2 == 0 and number % 3 == 0:\n",
    "    print(\"Yes\")\n",
    "else:\n",
    "    print(\"No\")\n"
   ]
  },
  {
   "cell_type": "code",
   "execution_count": 103,
   "id": "97e35365",
   "metadata": {},
   "outputs": [
    {
     "name": "stdout",
     "output_type": "stream",
     "text": [
      "True\n",
      "False\n"
     ]
    }
   ],
   "source": [
    "# Exercise 43\n",
    "def is_number_palindrome(n):\n",
    "    s = str(n)\n",
    "    return s == s[::-1]\n",
    "print(is_number_palindrome(121))\n",
    "print(is_number_palindrome(123))\n",
    "\n"
   ]
  },
  {
   "cell_type": "code",
   "execution_count": 104,
   "id": "ab45ee51",
   "metadata": {},
   "outputs": [
    {
     "name": "stdout",
     "output_type": "stream",
     "text": [
      "True\n",
      "False\n"
     ]
    }
   ],
   "source": [
    "# Exercise 44\n",
    "def all_lowercase(s):\n",
    "    return s.islower()\n",
    "print(all_lowercase(\"hello\"))\n",
    "print(all_lowercase(\"Hello\"))\n"
   ]
  },
  {
   "cell_type": "code",
   "execution_count": 105,
   "id": "51cd17d5",
   "metadata": {},
   "outputs": [
    {
     "name": "stdout",
     "output_type": "stream",
     "text": [
      "True\n",
      "False\n"
     ]
    }
   ],
   "source": [
    "# Exercise 45\n",
    "def starts_with_prefix(s, prefix):\n",
    "    return s.startswith(prefix)\n",
    "print(starts_with_prefix(\"Python\", \"Py\"))\n",
    "print(starts_with_prefix(\"Python\", \"py\"))\n",
    "\n"
   ]
  },
  {
   "cell_type": "code",
   "execution_count": 106,
   "id": "26eadf5f",
   "metadata": {},
   "outputs": [
    {
     "name": "stdout",
     "output_type": "stream",
     "text": [
      "True\n",
      "False\n"
     ]
    }
   ],
   "source": [
    "# Exercise 46\n",
    "def divisible_by_any(n, lst):\n",
    "    return any(n % x == 0 for x in lst)\n",
    "print(divisible_by_any(12, [2,5,7]))\n",
    "print(divisible_by_any(13, [2,5,7]))\n"
   ]
  },
  {
   "cell_type": "code",
   "execution_count": 107,
   "id": "7abbe74c",
   "metadata": {},
   "outputs": [
    {
     "name": "stdout",
     "output_type": "stream",
     "text": [
      "True\n",
      "False\n"
     ]
    }
   ],
   "source": [
    "# Exercise 47\n",
    "def has_duplicate_letter(s):\n",
    "    return len(s) != len(set(s))\n",
    "print(has_duplicate_letter(\"hello\"))\n",
    "print(has_duplicate_letter(\"abc\"))\n",
    "\n"
   ]
  },
  {
   "cell_type": "code",
   "execution_count": 108,
   "id": "d343c72a",
   "metadata": {},
   "outputs": [
    {
     "name": "stdout",
     "output_type": "stream",
     "text": [
      "True\n",
      "False\n"
     ]
    }
   ],
   "source": [
    "# Exercise 48\n",
    "def is_prime_sqrt(n):\n",
    "    if n <= 1:\n",
    "        return False\n",
    "    for i in range(2, int(math.sqrt(n)) + 1):\n",
    "        if n % i == 0:\n",
    "            return False\n",
    "    return True\n",
    "print(is_prime_sqrt(17))\n",
    "print(is_prime_sqrt(18))\n"
   ]
  },
  {
   "cell_type": "code",
   "execution_count": 109,
   "id": "e068ad09",
   "metadata": {},
   "outputs": [
    {
     "name": "stdout",
     "output_type": "stream",
     "text": [
      "True\n",
      "True\n"
     ]
    }
   ],
   "source": [
    "\n",
    "# Exercise 49\n",
    "def near_multiple_of_10(n):\n",
    "    return n % 10 <= 1 or n % 10 >= 9\n",
    "print(near_multiple_of_10(19))\n",
    "print(near_multiple_of_10(21))\n",
    "\n"
   ]
  },
  {
   "cell_type": "code",
   "execution_count": 110,
   "id": "bd3679a7",
   "metadata": {},
   "outputs": [
    {
     "name": "stdout",
     "output_type": "stream",
     "text": [
      "Enter a number: 25\n",
      "Out of range\n"
     ]
    }
   ],
   "source": [
    "# Exercise 50\n",
    "number = int(input(\"Enter a number: \"))\n",
    "if 10 <= number <= 20:\n",
    "    print(\"In range\")\n",
    "else:\n",
    "    print(\"Out of range\")"
   ]
  },
  {
   "cell_type": "code",
   "execution_count": null,
   "id": "a86409ff",
   "metadata": {},
   "outputs": [],
   "source": []
  }
 ],
 "metadata": {
  "colab": {
   "provenance": []
  },
  "kernelspec": {
   "display_name": "Python 3 (ipykernel)",
   "language": "python",
   "name": "python3"
  },
  "language_info": {
   "codemirror_mode": {
    "name": "ipython",
    "version": 3
   },
   "file_extension": ".py",
   "mimetype": "text/x-python",
   "name": "python",
   "nbconvert_exporter": "python",
   "pygments_lexer": "ipython3",
   "version": "3.12.3"
  }
 },
 "nbformat": 4,
 "nbformat_minor": 5
}

{
 "cells": [
  {
   "cell_type": "code",
   "execution_count": 4,
   "id": "c58dcafa",
   "metadata": {},
   "outputs": [
    {
     "name": "stdout",
     "output_type": "stream",
     "text": [
      "Python is amazing!\n"
     ]
    }
   ],
   "source": [
    "# Exercise 1\n",
    "text = \"Python is amazing!\"\n",
    "print(text)"
   ]
  },
  {
   "cell_type": "code",
   "execution_count": 6,
   "id": "8cbf1b93",
   "metadata": {},
   "outputs": [
    {
     "name": "stdout",
     "output_type": "stream",
     "text": [
      "13\n"
     ]
    }
   ],
   "source": [
    "# Exercise 2\n",
    "length = len(\"Hello, World!\")\n",
    "print(length)"
   ]
  },
  {
   "cell_type": "code",
   "execution_count": 3,
   "id": "8b4be366",
   "metadata": {},
   "outputs": [
    {
     "name": "stdout",
     "output_type": "stream",
     "text": [
      "PYTHON PROGRAMMING\n"
     ]
    }
   ],
   "source": [
    "# Exercise 3\n",
    "upper_text = \"python programming\".upper()\n",
    "print(upper_text)"
   ]
  },
  {
   "cell_type": "code",
   "execution_count": 11,
   "id": "4b1a0cbf",
   "metadata": {},
   "outputs": [
    {
     "name": "stdout",
     "output_type": "stream",
     "text": [
      "Artif\n"
     ]
    }
   ],
   "source": [
    "# Exercise 4\n",
    "substring = \"Artificial Intelligence\"[:5]\n",
    "print(substring)"
   ]
  },
  {
   "cell_type": "code",
   "execution_count": 13,
   "id": "1d4d2f68",
   "metadata": {},
   "outputs": [
    {
     "name": "stdout",
     "output_type": "stream",
     "text": [
      "Hello World\n"
     ]
    }
   ],
   "source": [
    "# Exercise 5\n",
    "greeting = \"Hello\" + \" \" + \"World\"\n",
    "print(greeting)"
   ]
  },
  {
   "cell_type": "code",
   "execution_count": 15,
   "id": "64f43307",
   "metadata": {},
   "outputs": [
    {
     "name": "stdout",
     "output_type": "stream",
     "text": [
      "['apple', 'banana', 'orange']\n"
     ]
    }
   ],
   "source": [
    "# Exercise 7\n",
    "fruits_list = \"apple,banana,orange\".split(\",\")\n",
    "print(fruits_list)"
   ]
  },
  {
   "cell_type": "code",
   "execution_count": 24,
   "id": "b13b10be",
   "metadata": {},
   "outputs": [
    {
     "name": "stdout",
     "output_type": "stream",
     "text": [
      "My name is Alice and I am 25 years old.\n"
     ]
    }
   ],
   "source": [
    "# Exercise 8\n",
    "name = \"Alice\" \n",
    "age = 25 \n",
    "sentence = \"My name is {} and I am {} years old.\".format(name, age)\n",
    "print(sentence)"
   ]
  },
  {
   "cell_type": "code",
   "execution_count": 20,
   "id": "175993b1",
   "metadata": {},
   "outputs": [
    {
     "name": "stdout",
     "output_type": "stream",
     "text": [
      "True\n"
     ]
    }
   ],
   "source": [
    "is_present = \"python\" in \"I love python programming\"\n",
    "print(is_present)"
   ]
  },
  {
   "cell_type": "code",
   "execution_count": 22,
   "id": "cbdb42db",
   "metadata": {},
   "outputs": [
    {
     "name": "stdout",
     "output_type": "stream",
     "text": [
      "3\n"
     ]
    }
   ],
   "source": [
    "# Exercise 10\n",
    "count_e = \"Elephant is an elegant animal\".count(\"e\")\n",
    "print(count_e)"
   ]
  },
  {
   "cell_type": "code",
   "execution_count": 27,
   "id": "0f002fbb",
   "metadata": {},
   "outputs": [
    {
     "name": "stdout",
     "output_type": "stream",
     "text": [
      "Data Science\n"
     ]
    }
   ],
   "source": [
    "# Exercise 11\n",
    "cleaned_string = \" Data Science \".strip()\n",
    "print(cleaned_string)"
   ]
  },
  {
   "cell_type": "code",
   "execution_count": 29,
   "id": "9be78ee2",
   "metadata": {},
   "outputs": [
    {
     "name": "stdout",
     "output_type": "stream",
     "text": [
      "100\n"
     ]
    }
   ],
   "source": [
    "# Exercise 12\n",
    "int_value = int(\"100\")\n",
    "print(int_value)"
   ]
  },
  {
   "cell_type": "code",
   "execution_count": 34,
   "id": "165e6df5",
   "metadata": {},
   "outputs": [
    {
     "name": "stdout",
     "output_type": "stream",
     "text": [
      "pro\n"
     ]
    }
   ],
   "source": [
    "# Exercise 13\n",
    "substring_pro = \"programming\"[:3]\n",
    "print(substring_pro)"
   ]
  },
  {
   "cell_type": "code",
   "execution_count": 38,
   "id": "00fa25c3",
   "metadata": {},
   "outputs": [
    {
     "name": "stdout",
     "output_type": "stream",
     "text": [
      "True\n"
     ]
    }
   ],
   "source": [
    "# Exercise 14\n",
    "test_data = \"data\" \n",
    "check_start_end = test_data.startswith(\"da\") and test_data.endswith(\"ta\")\n",
    "print(check_start_end)"
   ]
  },
  {
   "cell_type": "code",
   "execution_count": 41,
   "id": "a62a5af0",
   "metadata": {},
   "outputs": [
    {
     "name": "stdout",
     "output_type": "stream",
     "text": [
      "gninrael enihcam\n"
     ]
    }
   ],
   "source": [
    "# Exercise 15\n",
    "reversed_text = \"machine learning\"[::-1]\n",
    "print(reversed_text)"
   ]
  },
  {
   "cell_type": "code",
   "execution_count": 43,
   "id": "abca31d5",
   "metadata": {},
   "outputs": [
    {
     "name": "stdout",
     "output_type": "stream",
     "text": [
      "Machine Learning Is Fun\n"
     ]
    }
   ],
   "source": [
    "# Exercise 16\n",
    "title_case = \"machine learning is fun\".title()\n",
    "print(title_case)"
   ]
  },
  {
   "cell_type": "code",
   "execution_count": 45,
   "id": "357c3102",
   "metadata": {},
   "outputs": [
    {
     "name": "stdout",
     "output_type": "stream",
     "text": [
      "Badélé loves to learn each day,\n",
      "To think, to solve, to find the way.\n",
      "With math and code, he builds his dream,\n",
      "His mind is bright, his heart’s agleam.\n",
      "\n",
      "At AIMS he studies, strong and true,\n",
      "He learns new things, finds something new.\n",
      "Step by step, he’ll reach the sky,\n",
      "Badélé’s spirit will always fly.\n"
     ]
    }
   ],
   "source": [
    "# Exercise 17\n",
    "poem = \"\"\"Badélé loves to learn each day,\n",
    "To think, to solve, to find the way.\n",
    "With math and code, he builds his dream,\n",
    "His mind is bright, his heart’s agleam.\n",
    "\n",
    "At AIMS he studies, strong and true,\n",
    "He learns new things, finds something new.\n",
    "Step by step, he’ll reach the sky,\n",
    "Badélé’s spirit will always fly.\"\"\"\n",
    "\n",
    "print(poem)"
   ]
  },
  {
   "cell_type": "code",
   "execution_count": 47,
   "id": "9c2079ba",
   "metadata": {},
   "outputs": [],
   "source": [
    "# Exercise 18\n",
    "with open(\"output.txt\", \"w\") as file:\n",
    "    file.write(poem)"
   ]
  },
  {
   "cell_type": "code",
   "execution_count": 50,
   "id": "789a145a",
   "metadata": {},
   "outputs": [
    {
     "name": "stdout",
     "output_type": "stream",
     "text": [
      "Badélé loves to learn each day,\n",
      "To think, to solve, to find the way.\n",
      "With math and code, he builds his dream,\n",
      "His mind is bright, his heart’s agleam.\n",
      "\n",
      "At AIMS he studies, strong and true,\n",
      "He learns new things, finds something new.\n",
      "Step by step, he’ll reach the sky,\n",
      "Badélé’s spirit will always fly.\n"
     ]
    }
   ],
   "source": [
    "# Exercise 19\n",
    "with open(\"output.txt\", \"r\") as file:\n",
    "    for line in file: \n",
    "        print(line.strip())"
   ]
  },
  {
   "cell_type": "code",
   "execution_count": 54,
   "id": "f63c1075",
   "metadata": {},
   "outputs": [
    {
     "name": "stdout",
     "output_type": "stream",
     "text": [
      "File does not exist.\n"
     ]
    }
   ],
   "source": [
    "# Exercise 20\n",
    "import os \n",
    "if os.path.exists(\"example.txt\"): \n",
    "    with open(\"example.txt\", \"r\") as file: \n",
    "        print(file.read()) \n",
    "else: print(\"File does not exist.\")"
   ]
  },
  {
   "cell_type": "code",
   "execution_count": 55,
   "id": "ff81b0cb",
   "metadata": {},
   "outputs": [],
   "source": [
    "# Exercise 21\n",
    "with open(\"notes.txt\", \"a\") as file:\n",
    "    file.write(\"\\nThis is a new line\")"
   ]
  },
  {
   "cell_type": "code",
   "execution_count": null,
   "id": "63b4854e",
   "metadata": {},
   "outputs": [],
   "source": [
    "# Exercise 22\n",
    "with open(\"log.txt\", \"r\") as file:\n",
    "    log_lines = file.readlines()\n"
   ]
  },
  {
   "cell_type": "code",
   "execution_count": 62,
   "id": "9c19390b",
   "metadata": {},
   "outputs": [],
   "source": [
    "# Exercise 23\n",
    "with open(\"report.txt\", \"w\") as file:\n",
    "    file.write(\"Data analysis report\")"
   ]
  },
  {
   "cell_type": "code",
   "execution_count": null,
   "id": "bfc02076",
   "metadata": {},
   "outputs": [],
   "source": [
    "# Exercise 24\n",
    "with open(\"log.txt\", \"r\") as file:\n",
    "    content = file.read()\n",
    "\n",
    "content = content.replace(\"error\", \"issue\")\n",
    "\n",
    "with open(\"log.txt\", \"w\") as file:\n",
    "    file.write(content)\n"
   ]
  },
  {
   "cell_type": "code",
   "execution_count": null,
   "id": "38ef366f",
   "metadata": {},
   "outputs": [],
   "source": [
    "# Exercise 25\n",
    "with open(\"document.txt\", \"r\") as f:\n",
    "    words = f.read().split() \n",
    "    word_count = len(words)"
   ]
  },
  {
   "cell_type": "code",
   "execution_count": null,
   "id": "230c42ce",
   "metadata": {},
   "outputs": [],
   "source": [
    "# Exercise 26\n",
    "with open(\"essay.txt\", \"r\") as file:\n",
    "    text = file.read()\n",
    "    \n",
    "lines = text.splitlines()\n",
    "words = text.split() \n",
    "characters = len(text) \n",
    "\n",
    "print(\"Lines:\", len(lines))\n",
    "print(\"Words:\", len(words)) \n",
    "print(\"Characters:\", characters)"
   ]
  },
  {
   "cell_type": "code",
   "execution_count": null,
   "id": "a8b554e8",
   "metadata": {},
   "outputs": [],
   "source": [
    "#Exercise 27\n",
    "with open(\"source.txt\", \"r\") as src, open(\"destination.txt\", \"w\") as dest:\n",
    "    dest.write(src.read())\n",
    "\n",
    "print(\"File copied successfully!\")\n"
   ]
  },
  {
   "cell_type": "code",
   "execution_count": 77,
   "id": "c06968b5",
   "metadata": {},
   "outputs": [],
   "source": [
    "# Exercise 28\n",
    "def count_lines(filename):\n",
    "    with open(filename, \"r\") as f:\n",
    "        return len(f.readlines())"
   ]
  },
  {
   "cell_type": "code",
   "execution_count": null,
   "id": "3be9c57c",
   "metadata": {},
   "outputs": [],
   "source": [
    "# Exercise 29\n",
    "with open(\"article.txt\", \"r\") as f:\n",
    "    words = f.read().split()  \n",
    "    long_words = [word for word in words if len(word) > 5]  \n",
    "\n",
    "print(long_words)\n"
   ]
  },
  {
   "cell_type": "code",
   "execution_count": null,
   "id": "53625f70",
   "metadata": {},
   "outputs": [],
   "source": [
    "# Exercise 30\n",
    "with open(\"notes.txt\", \"r\") as f:\n",
    "    content = f.read().upper()\n",
    "\n",
    "with open(\"uppercase_notes.txt\", \"w\") as f:\n",
    "    f.write(content)\n"
   ]
  },
  {
   "cell_type": "code",
   "execution_count": null,
   "id": "987cee1d",
   "metadata": {},
   "outputs": [],
   "source": [
    "# Exercise 31\n",
    "with open(\"file.txt\", \"r\") as f:\n",
    "    lines = f.readlines()\n",
    "with open(\"file.txt\", \"w\") as f:\n",
    "    for line in lines:\n",
    "        if line.strip():\n",
    "            f.write(line)"
   ]
  },
  {
   "cell_type": "code",
   "execution_count": null,
   "id": "0fd88c7e",
   "metadata": {},
   "outputs": [],
   "source": [
    "# Exercise 32\n",
    "file = open(\"config.txt\", \"r+\")\n",
    "file.close()"
   ]
  },
  {
   "cell_type": "code",
   "execution_count": null,
   "id": "7a89c663",
   "metadata": {},
   "outputs": [],
   "source": [
    "# Exercise 33\n",
    "def longest_line(filename):\n",
    "    with open(filename, \"r\") as f:\n",
    "        lines = f.readlines()\n",
    "    return max(lines, key=len).strip()"
   ]
  },
  {
   "cell_type": "code",
   "execution_count": null,
   "id": "560a4a6c",
   "metadata": {},
   "outputs": [],
   "source": [
    "# Exercise 34\n",
    "from collections import Counter\n",
    "with open(\"message.txt\", \"r\") as f:\n",
    "    text = f.read().replace(\" \", \"\").lower()\n",
    "frequency = Counter(text)"
   ]
  },
  {
   "cell_type": "code",
   "execution_count": null,
   "id": "e60bcb3f",
   "metadata": {},
   "outputs": [],
   "source": [
    "# Exercise 35\n",
    "with open(\"text.txt\", \"r\") as f:\n",
    "    content = f.read()\n",
    "char_count = len(content.replace(\" \", \"\"))"
   ]
  },
  {
   "cell_type": "code",
   "execution_count": null,
   "id": "fbc5997e",
   "metadata": {},
   "outputs": [],
   "source": [
    "# Exercise 36 \n",
    "def is_empty(filename):\n",
    "    import os\n",
    "    return os.path.getsize(filename) == 0"
   ]
  },
  {
   "cell_type": "code",
   "execution_count": null,
   "id": "49f518be",
   "metadata": {},
   "outputs": [],
   "source": [
    "# Exercise 37\n",
    "import string\n",
    "def remove_punctuation(filename):\n",
    "    with open(filename, \"r\") as f:\n",
    "        text = f.read()\n",
    "    for p in string.punctuation:\n",
    "        text = text.replace(p, \"\")\n",
    "    return text"
   ]
  },
  {
   "cell_type": "code",
   "execution_count": null,
   "id": "62e2cc5d",
   "metadata": {},
   "outputs": [],
   "source": [
    "# Exercise 38\n",
    "def write_list_to_file(filename, lines):\n",
    "    with open(filename, \"w\") as f:\n",
    "        for line in lines:\n",
    "            f.write(line + \"\\n\")"
   ]
  },
  {
   "cell_type": "code",
   "execution_count": null,
   "id": "56ef5512",
   "metadata": {},
   "outputs": [],
   "source": [
    "# Exercise 39\n",
    "with open(\"file.txt\", \"r\") as f:\n",
    "    lines = f.readlines()\n",
    "count_A = sum(1 for line in lines if line.startswith(\"A\"))"
   ]
  },
  {
   "cell_type": "code",
   "execution_count": null,
   "id": "24e24591",
   "metadata": {},
   "outputs": [],
   "source": [
    "# Exercise 40\n",
    "def write_reversed(filename, text):\n",
    "    with open(filename, \"w\") as f:\n",
    "        f.write(text[::-1])"
   ]
  },
  {
   "cell_type": "code",
   "execution_count": null,
   "id": "1f4e3a50",
   "metadata": {},
   "outputs": [],
   "source": [
    "# Exercise 41\n",
    "with open(\"file.txt\", \"r\") as f:\n",
    "    for line in f:\n",
    "        if \"Python\" in line:\n",
    "            print(line.strip())"
   ]
  },
  {
   "cell_type": "code",
   "execution_count": null,
   "id": "90f967de",
   "metadata": {},
   "outputs": [],
   "source": [
    "# Exercise 42\n",
    "with open(\"file.txt\", \"r\") as f:\n",
    "    text = f.read()\n",
    "new_text = ''.join(c for c in text if not c.isdigit())\n",
    "with open(\"file.txt\", \"w\") as f:\n",
    "    f.write(new_text)"
   ]
  },
  {
   "cell_type": "code",
   "execution_count": null,
   "id": "e449d4de",
   "metadata": {},
   "outputs": [],
   "source": [
    "# Exercise 43\n",
    "from collections import Counter\n",
    "with open(\"book.txt\", \"r\") as f:\n",
    "    words = f.read().split()\n",
    "most_frequent = Counter(words).most_common(1)[0][0]\n"
   ]
  },
  {
   "cell_type": "code",
   "execution_count": null,
   "id": "62a385b7",
   "metadata": {},
   "outputs": [],
   "source": [
    "# Exercise 44\n",
    "with open(\"file.txt\", \"r\") as f:\n",
    "    for line in f:\n",
    "        if len(line.split()) == 5:\n",
    "            print(line.strip())"
   ]
  },
  {
   "cell_type": "code",
   "execution_count": null,
   "id": "971a0880",
   "metadata": {},
   "outputs": [],
   "source": [
    "# Exercise 45 \n",
    "with open(\"file.txt\", \"r\") as f:\n",
    "    lines = f.readlines()\n",
    "print(\"First line:\", lines[0].strip())\n",
    "print(\"Last line:\", lines[-1].strip())"
   ]
  },
  {
   "cell_type": "code",
   "execution_count": null,
   "id": "8f1b2d11",
   "metadata": {},
   "outputs": [],
   "source": [
    "# Exercise 46 \n",
    "import os\n",
    "is_write = os.access(\"students.txt\", os.W_OK)\n"
   ]
  },
  {
   "cell_type": "code",
   "execution_count": null,
   "id": "2cdca922",
   "metadata": {},
   "outputs": [],
   "source": [
    "# Exercise 47 \n",
    "def unique_word_count(filename):\n",
    "    with open(filename, \"r\") as f:\n",
    "        words = f.read().split()\n",
    "    return len(set(words))"
   ]
  },
  {
   "cell_type": "code",
   "execution_count": null,
   "id": "28a4a993",
   "metadata": {},
   "outputs": [],
   "source": [
    "# Exercise 48\n",
    "with open(\"file.txt\", \"r\") as f:\n",
    "    lines = f.readlines()\n",
    "for line in reversed(lines):\n",
    "    print(line.strip())"
   ]
  },
  {
   "cell_type": "code",
   "execution_count": null,
   "id": "d5765d20",
   "metadata": {},
   "outputs": [],
   "source": [
    "# Exercise 49\n",
    "from collections import Counter\n",
    "def most_common_letter(filename):\n",
    "    with open(filename, \"r\") as f:\n",
    "        text = f.read().replace(\" \", \"\").lower()\n",
    "    return Counter(text).most_common(1)[0][0]"
   ]
  },
  {
   "cell_type": "code",
   "execution_count": null,
   "id": "460cc362",
   "metadata": {},
   "outputs": [],
   "source": [
    "# Exercise 50\n",
    "with open(\"file.txt\", \"r\") as f:\n",
    "    text = f.read()\n",
    "new_text = text.replace(\"Python\", \"Java\")\n",
    "with open(\"file.txt\", \"w\") as f:\n",
    "    f.write(new_text)\n"
   ]
  }
 ],
 "metadata": {
  "kernelspec": {
   "display_name": "Python 3 (ipykernel)",
   "language": "python",
   "name": "python3"
  },
  "language_info": {
   "codemirror_mode": {
    "name": "ipython",
    "version": 3
   },
   "file_extension": ".py",
   "mimetype": "text/x-python",
   "name": "python",
   "nbconvert_exporter": "python",
   "pygments_lexer": "ipython3",
   "version": "3.12.3"
  }
 },
 "nbformat": 4,
 "nbformat_minor": 5
}
